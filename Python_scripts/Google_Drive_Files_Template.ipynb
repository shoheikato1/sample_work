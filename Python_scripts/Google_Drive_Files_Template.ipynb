{
 "cells": [
  {
   "cell_type": "markdown",
   "metadata": {},
   "source": [
    "#### Google Official Documents\n",
    "https://developers.google.com/drive/api/v3/quickstart/python<br>\n",
    "https://developers.google.com/drive/api/v3/manage-downloads<br>\n",
    "https://developers.google.com/drive/api/v3/reference/files/list<br>\n",
    "https://developers.google.com/drive/api/v3/search-files<br>"
   ]
  },
  {
   "cell_type": "markdown",
   "metadata": {},
   "source": [
    "#### STEP1: 0Authetication\n",
    "Credit for the majority of the code below goes to the article from Medium (link below)<br>\n",
    "https://medium.com/@umdfirecoml/a-step-by-step-guide-on-how-to-download-your-google-drive-data-to-your-jupyter-notebook-using-the-52f4ce63c66c"
   ]
  },
  {
   "cell_type": "code",
   "execution_count": 1,
   "metadata": {},
   "outputs": [],
   "source": [
    "from apiclient import discovery\n",
    "from httplib2 import Http\n",
    "import oauth2client\n",
    "from oauth2client import file, client, tools\n",
    "obj = lambda: None # this code allows for an empty class\n",
    "auth = {\"auth_host_name\":'localhost', 'noauth_local_webserver':'store_true', 'auth_host_port':[8080, 8090], 'logging_level':'ERROR'}\n",
    "for k, v in auth.items():\n",
    "    setattr(obj, k, v)\n",
    "    \n",
    "# authorization boilerplate code\n",
    "SCOPES = 'https://www.googleapis.com/auth/drive'\n",
    "store = file.Storage('token_google_drive.json')\n",
    "creds = store.get()\n",
    "# The following will give you a link if token.json does not exist, the link allows the user to give this app permission\n",
    "if not creds or creds.invalid:\n",
    "    flow = client.flow_from_clientsecrets('client_id.json', SCOPES)\n",
    "    creds = tools.run_flow(flow, store, obj)"
   ]
  },
  {
   "cell_type": "markdown",
   "metadata": {},
   "source": [
    "#### STEP2: Search for files and create list of files to download\n",
    "look below for supported mimeType<br>\n",
    "https://developers.google.com/drive/api/v3/mime-types"
   ]
  },
  {
   "cell_type": "code",
   "execution_count": 8,
   "metadata": {},
   "outputs": [],
   "source": [
    "#### Search for Files\n",
    "\n",
    "from googleapiclient.discovery import build\n",
    "\n",
    "page_token = None\n",
    "drive_service = build('drive', 'v3', credentials=creds)\n",
    "while True:\n",
    "    name_list = []\n",
    "    id_list = []\n",
    "    response = drive_service.files().list(q=\"mimeType='text/csv' and name contains 'SRP_final'\",\n",
    "                                          ##### MAKE SURE YOU ADJUST THIS!!!!\n",
    "                                          # AND for more restrictive conditions, OR for alternating conditions\n",
    "                                          spaces='drive',\n",
    "                                          fields='nextPageToken, files(id, name)',\n",
    "                                          pageToken=page_token).execute()\n",
    "    for file in response.get('files', []):\n",
    "        name = file.get('name')\n",
    "        id_ = file.get('id')\n",
    "        \n",
    "        #name and id are strings, so create list first before creating a dictionary\n",
    "        name_list.append(name)\n",
    "        id_list.append(id_)\n",
    "        \n",
    "        #also you need to remove \":\" in name_list or you cannot download files - nowhere to be found in the folder!\n",
    "        name_list = [word.replace(':','') for word in name_list]\n",
    "    \n",
    "    page_token = response.get('nextPageToken', None)\n",
    "    if page_token is None:\n",
    "        break\n",
    "\n",
    "#### Create dictionary using name_list and id_list\n",
    "zipobj = zip(name_list, id_list)\n",
    "temp_dic = dict(zipobj)\n",
    "\n",
    "#clean up the objects\n",
    "del name_list\n",
    "del id_list\n",
    "del zipobj"
   ]
  },
  {
   "cell_type": "code",
   "execution_count": 9,
   "metadata": {},
   "outputs": [
    {
     "data": {
      "text/plain": [
       "{}"
      ]
     },
     "execution_count": 9,
     "metadata": {},
     "output_type": "execute_result"
    }
   ],
   "source": [
    "temp_dic #shows the entire dictionary of files to donwload"
   ]
  },
  {
   "cell_type": "markdown",
   "metadata": {},
   "source": [
    "#### STEP 2.5: Before downloading files, create a folder dedicated for raw data of last month\n",
    "https://stackabuse.com/creating-and-deleting-directories-with-python/"
   ]
  },
  {
   "cell_type": "code",
   "execution_count": 12,
   "metadata": {},
   "outputs": [
    {
     "data": {
      "text/plain": [
       "'C:\\\\Users\\\\skato\\\\Desktop\\\\Regional Report_Automation\\\\201910'"
      ]
     },
     "execution_count": 12,
     "metadata": {},
     "output_type": "execute_result"
    }
   ],
   "source": [
    "# CHECK CURRENT DIRECTORY\n",
    "\n",
    "import os\n",
    "# code below shows current directory\n",
    "os.getcwd()"
   ]
  },
  {
   "cell_type": "code",
   "execution_count": 15,
   "metadata": {},
   "outputs": [
    {
     "name": "stdout",
     "output_type": "stream",
     "text": [
      "Creation of the directory C:\\Users\\skato\\Desktop\\Regional Report_Automation\\201910 faileds\n"
     ]
    }
   ],
   "source": [
    "# CREATE A NEW DIRECTORY\n",
    "\n",
    "# define the name of the directory to be created \n",
    "path = \"C:\\\\Users\\\\skato\\\\Desktop\\\\Regional Report_Automation\\\\201910\" ### MAKE SURE YOU ADJUST THIS!!!!\n",
    "try:\n",
    "    os.mkdir(path)\n",
    "except OSError:\n",
    "    print (\"Creation of the directory %s faileds\" % path)\n",
    "else:\n",
    "    print (\"Successfully created the directory %s \" % path)"
   ]
  },
  {
   "cell_type": "code",
   "execution_count": 11,
   "metadata": {},
   "outputs": [],
   "source": [
    "# CHANGE ACTIVE DIRECTORY\n",
    "\n",
    "# change working directory to the folder just created\n",
    "os.chdir('C:\\\\Users\\\\skato\\\\Desktop\\\\Regional Report_Automation\\\\201910')"
   ]
  },
  {
   "cell_type": "markdown",
   "metadata": {},
   "source": [
    "#### STEP3: Download files"
   ]
  },
  {
   "cell_type": "code",
   "execution_count": 14,
   "metadata": {},
   "outputs": [
    {
     "name": "stdout",
     "output_type": "stream",
     "text": [
      "Downloading RR3-Users, Pageviews & Session Duration by Source_mDOT_Part2 20191001 20191031.csv is 100% complete\n",
      "Downloading RR 4- CPC Sessions Total_mDOT_FINAL 20191001 20191031.csv is 100% complete\n",
      "Downloading RR Visits, UVs, Pageviews, Time On Site Summary_mDOT 20191001 20191031.csv is 100% complete\n",
      "Downloading RR 2-Viewed a New car VDP_mDOT_FINAL 20191001 20191031.csv is 100% complete\n",
      "Downloading RR3-Users, Pageviews & Session Duration by Source_mDOT_Part1 20191001 20191031.csv is 100% complete\n",
      "Downloading RR 2-Viewed a New car VDP_mDOT 20191001 20191031.csv is 100% complete\n",
      "Downloading RR 4- CPC Sessions Total_mDOT 20191001 20191031.csv is 100% complete\n",
      "Downloading RR 5- mDot Organic SEO Sessions_mDOT 20191001 20191031.csv is 100% complete\n",
      "Downloading RR 6- mDot Organic SEO Sessions by Region_mDOT 20191001 20191031.csv is 100% complete\n",
      "Downloading RR 1-Visits, UVs, Screenviews, Time on Screen_Android 20191001 20191031.csv is 100% complete\n",
      "Downloading RR 2-Viewed a New car VDP_Android_FINAL 20191001 20191031.csv is 100% complete\n",
      "Downloading RR 2-Viewed a New car VDP_Android 20191001 20191031.csv is 100% complete\n",
      "Downloading RR 4- CPC Sessions Total_Desktop 20191001 20191031.csv is 100% complete\n",
      "Downloading RR3-Users, Pageviews & Session Duration by Source_Desktop_Part1 20191001 20191031.csv is 100% complete\n",
      "Downloading RR3-Users, Pageviews & Session Duration by Source_Desktop_Part2 20191001 20191031.csv is 100% complete\n",
      "Downloading RR 2-Viewed a New car VDP_Desktop 20191001 20191031.csv is 100% complete\n",
      "Downloading RR Visits, UVs, Pageviews, Time On Site Summary_Desktop 20191001 20191031.csv is 100% complete\n",
      "Downloading RR 5- Trader SEO Sessions_Desktop 20191001 20191031.csv is 100% complete\n",
      "Downloading RR Visits, UVs, Pageviews, Time On Site Summary 20191001 20191031.csv is 100% complete\n",
      "Downloading RR 2-Viewed a New car VDP_Desktop_FINAL 20191001 20191031.csv is 100% complete\n",
      "Downloading RR 2-Viewed a New car VDP_iOS_FINAL 20191001 20191031.csv is 100% complete\n",
      "Downloading RR 8-Hebdo SEO Sessions by region_Desktop 20191001 20191031.csv is 100% complete\n",
      "Downloading RR 7- Trader SEO Sessions by region_Desktop 20191001 20191031.csv is 100% complete\n",
      "Downloading RR 6- Hebdo SEO Sessions_Desktop 20191001 20191031.csv is 100% complete\n",
      "Downloading RR Visits, UVs, Screenviews, Time on Screen_iOS 20191001 20191031.csv is 100% complete\n",
      "Downloading RR 2-Viewed a New car VDP_iOS 20191001 20191031.csv is 100% complete\n",
      "26 files\n"
     ]
    }
   ],
   "source": [
    "import io\n",
    "from googleapiclient.http import MediaIoBaseDownload\n",
    "\n",
    "for i in range(len(temp_dic.values())):\n",
    "\n",
    "    file_id = list(temp_dic.values())[i]\n",
    "    v = list(temp_dic.keys())[i]\n",
    "    request = drive_service.files().get_media(fileId=file_id)\n",
    "    \n",
    "    # replace the filename and extension in the first field below\n",
    "    fh = io.FileIO(v, mode='wb') #only in Windows, writing for binary is specified with wb\n",
    "    downloader = MediaIoBaseDownload(fh, request)\n",
    "    \n",
    "    status, done = downloader.next_chunk()\n",
    "    status_complete = int(status.progress()*100)\n",
    "    print(f'Downloading {list(temp_dic.keys())[i]} is {int(status.progress()*100)}% complete')\n",
    "    \n",
    "fh.close()\n",
    "print(f'{len(list(temp_dic.keys()))} files')"
   ]
  },
  {
   "cell_type": "code",
   "execution_count": 27,
   "metadata": {},
   "outputs": [],
   "source": [
    "# #Code for a single file 1st in the list\n",
    "\n",
    "# file_id = list(temp_dic.values())[0]\n",
    "# v = list(temp_dic.keys())[0]\n",
    "# request = drive_service.files().get_media(fileId=file_id)\n",
    "# # replace the filename and extension in the first field below\n",
    "# fh = io.FileIO(v, mode='w')\n",
    "# downloader = MediaIoBaseDownload(fh, request)\n",
    "# done = False\n",
    "\n",
    "# while done is False:\n",
    "#     status, done = downloader.next_chunk()\n",
    "#     status_complete = int(status.progress()*100)\n",
    "#     print(f'Download of {len(temp_dic.values())} files, {int(status.progress()*100)}%')"
   ]
  },
  {
   "cell_type": "markdown",
   "metadata": {},
   "source": [
    "#### Action Items\n",
    "(1) SOLVED: Put multiple query conditions<br>  e.g. q=\"mimeType='text/csv' and name contains 'RR' and name contains '20190901'\" <br><br>\n",
    "(2) SOLVED Find files<br> if filename contains colon, <b>\" : \"</b>, python does not recognizes it and nothing is stored: solution is to remove :<br><br>\n",
    "(3) SOLVED Place all the filenames and ids into dictionary so I can loop and automate file downloads<br><br>\n",
    "(4) SOLVED Iterate Download Files through i in temp_dic\n",
    ">Part 1: for x loop top\n",
    "> > a. Convert dictionary values into strings (str)<br>\n",
    "> > b. but you cannot range(temp_dic.values()) because temp_dic.values() is not integer<br>\n",
    "> > c. but you cannot len(temp_dic.values()) because i loop requires range, not integer<br>\n",
    "> > d. for i in range(len(temp_dic.values())):\n",
    "\n",
    ">Part 2: Turn dictionary values into strings\n",
    ">> a. you need to turn values into list and let it pick index 'i' <br>\n",
    "file_id = list(temp_dic.values())[i]\n",
    "\n",
    "(5) DEBUG SOLVED: files downloaded are all empty --> take out 'while donw is False' & 'done = False'<br>\n",
    "\n",
    "(6) Specify directory to which you download raw data"
   ]
  }
 ],
 "metadata": {
  "kernelspec": {
   "display_name": "Python 3",
   "language": "python",
   "name": "python3"
  },
  "language_info": {
   "codemirror_mode": {
    "name": "ipython",
    "version": 3
   },
   "file_extension": ".py",
   "mimetype": "text/x-python",
   "name": "python",
   "nbconvert_exporter": "python",
   "pygments_lexer": "ipython3",
   "version": "3.7.3"
  }
 },
 "nbformat": 4,
 "nbformat_minor": 2
}
