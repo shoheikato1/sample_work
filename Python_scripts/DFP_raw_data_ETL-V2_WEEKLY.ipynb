{
 "cells": [
  {
   "cell_type": "code",
   "execution_count": 1,
   "metadata": {},
   "outputs": [],
   "source": [
    "import pandas as pd\n",
    "from pandas import ExcelWriter\n",
    "from pandas import ExcelFile\n",
    "import numpy as np"
   ]
  },
  {
   "cell_type": "code",
   "execution_count": 2,
   "metadata": {
    "scrolled": true
   },
   "outputs": [
    {
     "data": {
      "text/plain": [
       "['Creative_Size.csv',\n",
       " 'Creative_Size_update.csv',\n",
       " 'Creative_Size_update.xlsx',\n",
       " 'DFPDashboard_20190901_20200219.csv',\n",
       " 'DFPDashboard_20200202_20200314.csv',\n",
       " 'DFPDashboard_20200202_20200317.csv',\n",
       " 'DFPDashboard_20200301_20200314.csv',\n",
       " 'DFP_powerBI_V6.pbix',\n",
       " 'DFP_powerBI_Weekly.pbix',\n",
       " 'DFP_raw_data_ETL-V2_WEEKLY.ipynb',\n",
       " 'df_datastudio.csv',\n",
       " 'df_master.csv',\n",
       " 'df_master_original.csv',\n",
       " 'df_master_weekly.csv',\n",
       " 'national_commercial_category.csv',\n",
       " 'Performance Dashboard - raw.xlsx',\n",
       " '~$Creative_Size_update.xlsx']"
      ]
     },
     "execution_count": 2,
     "metadata": {},
     "output_type": "execute_result"
    }
   ],
   "source": [
    "# list all the files in the current directory\n",
    "import os, os.path\n",
    "# simple version for working with CWD\n",
    "[name for name in os.listdir('.') if os.path.isfile(name)]"
   ]
  },
  {
   "cell_type": "markdown",
   "metadata": {},
   "source": [
    "### ETL single file"
   ]
  },
  {
   "cell_type": "code",
   "execution_count": 4,
   "metadata": {},
   "outputs": [],
   "source": [
    "df = pd.read_csv('DFPDashboard_20200202_20200317.csv', index_col=False, dtype='unicode')\n",
    "#two = pd.read_csv('DFPDashboard_20191027_20200104.csv', error_bad_lines=False, index_col=False, dtype='unicode')"
   ]
  },
  {
   "cell_type": "code",
   "execution_count": 5,
   "metadata": {},
   "outputs": [],
   "source": [
    "#df.head(10)"
   ]
  },
  {
   "cell_type": "code",
   "execution_count": 6,
   "metadata": {},
   "outputs": [],
   "source": [
    "df = df[:-1].reset_index(drop = True)\n",
    "df.columns = df.iloc[7]\n",
    "df = df[8:-1].reset_index(drop = True)\n"
   ]
  },
  {
   "cell_type": "code",
   "execution_count": 7,
   "metadata": {},
   "outputs": [],
   "source": [
    "#frames = [one,two]\n",
    "#df = pd.concat(frames).sort_values(by=['Date'],ascending=True).reset_index(drop=True)"
   ]
  },
  {
   "cell_type": "code",
   "execution_count": 8,
   "metadata": {},
   "outputs": [],
   "source": [
    "#df = two\n",
    "#two"
   ]
  },
  {
   "cell_type": "code",
   "execution_count": 9,
   "metadata": {},
   "outputs": [
    {
     "data": {
      "text/html": [
       "<div>\n",
       "<style scoped>\n",
       "    .dataframe tbody tr th:only-of-type {\n",
       "        vertical-align: middle;\n",
       "    }\n",
       "\n",
       "    .dataframe tbody tr th {\n",
       "        vertical-align: top;\n",
       "    }\n",
       "\n",
       "    .dataframe thead th {\n",
       "        text-align: right;\n",
       "    }\n",
       "</style>\n",
       "<table border=\"1\" class=\"dataframe\">\n",
       "  <thead>\n",
       "    <tr style=\"text-align: right;\">\n",
       "      <th>7</th>\n",
       "      <th>Date</th>\n",
       "      <th>Advertiser</th>\n",
       "      <th>Programmatic channel</th>\n",
       "      <th>Creative size (delivered)</th>\n",
       "      <th>Ad unit</th>\n",
       "      <th>Advertiser ID</th>\n",
       "      <th>Ad unit ID</th>\n",
       "      <th>Total impressions</th>\n",
       "      <th>Total clicks</th>\n",
       "      <th>Total Active View measurable impressions</th>\n",
       "      <th>Total Active View viewable impressions</th>\n",
       "    </tr>\n",
       "  </thead>\n",
       "  <tbody>\n",
       "    <tr>\n",
       "      <th>0</th>\n",
       "      <td>2/2/2020</td>\n",
       "      <td>-</td>\n",
       "      <td>Open Auction</td>\n",
       "      <td>1024x90</td>\n",
       "      <td>LesPac_FR_App (21821157844) » Other (218267306...</td>\n",
       "      <td>-1</td>\n",
       "      <td>21826751636</td>\n",
       "      <td>1</td>\n",
       "      <td>0</td>\n",
       "      <td>1</td>\n",
       "      <td>0</td>\n",
       "    </tr>\n",
       "    <tr>\n",
       "      <th>1</th>\n",
       "      <td>2/2/2020</td>\n",
       "      <td>-</td>\n",
       "      <td>Open Auction</td>\n",
       "      <td>1024x90</td>\n",
       "      <td>LesPac_FR_App (21821157844) » Other (218267306...</td>\n",
       "      <td>-1</td>\n",
       "      <td>21826752257</td>\n",
       "      <td>4</td>\n",
       "      <td>0</td>\n",
       "      <td>4</td>\n",
       "      <td>4</td>\n",
       "    </tr>\n",
       "    <tr>\n",
       "      <th>2</th>\n",
       "      <td>2/2/2020</td>\n",
       "      <td>-</td>\n",
       "      <td>Open Auction</td>\n",
       "      <td>1024x90</td>\n",
       "      <td>LesPac_FR_App (21821157844) » Other (218267306...</td>\n",
       "      <td>-1</td>\n",
       "      <td>21826751597</td>\n",
       "      <td>4</td>\n",
       "      <td>0</td>\n",
       "      <td>4</td>\n",
       "      <td>4</td>\n",
       "    </tr>\n",
       "    <tr>\n",
       "      <th>3</th>\n",
       "      <td>2/2/2020</td>\n",
       "      <td>-</td>\n",
       "      <td>Open Auction</td>\n",
       "      <td>1024x90</td>\n",
       "      <td>LesPac_FR_App (21821157844) » Other (218267306...</td>\n",
       "      <td>-1</td>\n",
       "      <td>21826831345</td>\n",
       "      <td>4</td>\n",
       "      <td>0</td>\n",
       "      <td>4</td>\n",
       "      <td>3</td>\n",
       "    </tr>\n",
       "    <tr>\n",
       "      <th>4</th>\n",
       "      <td>2/2/2020</td>\n",
       "      <td>-</td>\n",
       "      <td>Open Auction</td>\n",
       "      <td>1024x90</td>\n",
       "      <td>LesPac_FR_App (21821157844) » Other (218267306...</td>\n",
       "      <td>-1</td>\n",
       "      <td>21826752038</td>\n",
       "      <td>4</td>\n",
       "      <td>0</td>\n",
       "      <td>4</td>\n",
       "      <td>4</td>\n",
       "    </tr>\n",
       "    <tr>\n",
       "      <th>...</th>\n",
       "      <td>...</td>\n",
       "      <td>...</td>\n",
       "      <td>...</td>\n",
       "      <td>...</td>\n",
       "      <td>...</td>\n",
       "      <td>...</td>\n",
       "      <td>...</td>\n",
       "      <td>...</td>\n",
       "      <td>...</td>\n",
       "      <td>...</td>\n",
       "      <td>...</td>\n",
       "    </tr>\n",
       "    <tr>\n",
       "      <th>605979</th>\n",
       "      <td>3/17/2020</td>\n",
       "      <td>LP - Government of Quebec</td>\n",
       "      <td>(Not applicable)</td>\n",
       "      <td>728x90</td>\n",
       "      <td>LesPac_FR (21821231358) » TiresPartsEquipment ...</td>\n",
       "      <td>4856049289</td>\n",
       "      <td>21826727240</td>\n",
       "      <td>2</td>\n",
       "      <td>0</td>\n",
       "      <td>2</td>\n",
       "      <td>1</td>\n",
       "    </tr>\n",
       "    <tr>\n",
       "      <th>605980</th>\n",
       "      <td>3/17/2020</td>\n",
       "      <td>LP - Government of Quebec</td>\n",
       "      <td>(Not applicable)</td>\n",
       "      <td>728x90</td>\n",
       "      <td>LesPac_FR (21821231358) » TiresPartsEquipment ...</td>\n",
       "      <td>4856049289</td>\n",
       "      <td>21826727258</td>\n",
       "      <td>2</td>\n",
       "      <td>0</td>\n",
       "      <td>2</td>\n",
       "      <td>2</td>\n",
       "    </tr>\n",
       "    <tr>\n",
       "      <th>605981</th>\n",
       "      <td>3/17/2020</td>\n",
       "      <td>LP - Government of Quebec</td>\n",
       "      <td>(Not applicable)</td>\n",
       "      <td>728x90</td>\n",
       "      <td>LesPac_FR (21821231358) » TiresPartsEquipment ...</td>\n",
       "      <td>4856049289</td>\n",
       "      <td>21826783054</td>\n",
       "      <td>62</td>\n",
       "      <td>0</td>\n",
       "      <td>62</td>\n",
       "      <td>26</td>\n",
       "    </tr>\n",
       "    <tr>\n",
       "      <th>605982</th>\n",
       "      <td>3/17/2020</td>\n",
       "      <td>LP - Government of Quebec</td>\n",
       "      <td>(Not applicable)</td>\n",
       "      <td>728x90</td>\n",
       "      <td>LesPac_FR (21821231358) » TiresPartsEquipment ...</td>\n",
       "      <td>4856049289</td>\n",
       "      <td>21826799841</td>\n",
       "      <td>9</td>\n",
       "      <td>0</td>\n",
       "      <td>9</td>\n",
       "      <td>6</td>\n",
       "    </tr>\n",
       "    <tr>\n",
       "      <th>605983</th>\n",
       "      <td>3/17/2020</td>\n",
       "      <td>LP - Government of Quebec</td>\n",
       "      <td>(Not applicable)</td>\n",
       "      <td>728x90</td>\n",
       "      <td>LesPac_FR_mDot (21821231463)</td>\n",
       "      <td>4856049289</td>\n",
       "      <td>21821231463</td>\n",
       "      <td>23</td>\n",
       "      <td>0</td>\n",
       "      <td>23</td>\n",
       "      <td>0</td>\n",
       "    </tr>\n",
       "  </tbody>\n",
       "</table>\n",
       "<p>605984 rows × 11 columns</p>\n",
       "</div>"
      ],
      "text/plain": [
       "7            Date                 Advertiser Programmatic channel  \\\n",
       "0        2/2/2020                          -         Open Auction   \n",
       "1        2/2/2020                          -         Open Auction   \n",
       "2        2/2/2020                          -         Open Auction   \n",
       "3        2/2/2020                          -         Open Auction   \n",
       "4        2/2/2020                          -         Open Auction   \n",
       "...           ...                        ...                  ...   \n",
       "605979  3/17/2020  LP - Government of Quebec     (Not applicable)   \n",
       "605980  3/17/2020  LP - Government of Quebec     (Not applicable)   \n",
       "605981  3/17/2020  LP - Government of Quebec     (Not applicable)   \n",
       "605982  3/17/2020  LP - Government of Quebec     (Not applicable)   \n",
       "605983  3/17/2020  LP - Government of Quebec     (Not applicable)   \n",
       "\n",
       "7      Creative size (delivered)  \\\n",
       "0                        1024x90   \n",
       "1                        1024x90   \n",
       "2                        1024x90   \n",
       "3                        1024x90   \n",
       "4                        1024x90   \n",
       "...                          ...   \n",
       "605979                    728x90   \n",
       "605980                    728x90   \n",
       "605981                    728x90   \n",
       "605982                    728x90   \n",
       "605983                    728x90   \n",
       "\n",
       "7                                                 Ad unit Advertiser ID  \\\n",
       "0       LesPac_FR_App (21821157844) » Other (218267306...            -1   \n",
       "1       LesPac_FR_App (21821157844) » Other (218267306...            -1   \n",
       "2       LesPac_FR_App (21821157844) » Other (218267306...            -1   \n",
       "3       LesPac_FR_App (21821157844) » Other (218267306...            -1   \n",
       "4       LesPac_FR_App (21821157844) » Other (218267306...            -1   \n",
       "...                                                   ...           ...   \n",
       "605979  LesPac_FR (21821231358) » TiresPartsEquipment ...    4856049289   \n",
       "605980  LesPac_FR (21821231358) » TiresPartsEquipment ...    4856049289   \n",
       "605981  LesPac_FR (21821231358) » TiresPartsEquipment ...    4856049289   \n",
       "605982  LesPac_FR (21821231358) » TiresPartsEquipment ...    4856049289   \n",
       "605983                       LesPac_FR_mDot (21821231463)    4856049289   \n",
       "\n",
       "7        Ad unit ID Total impressions Total clicks  \\\n",
       "0       21826751636                 1            0   \n",
       "1       21826752257                 4            0   \n",
       "2       21826751597                 4            0   \n",
       "3       21826831345                 4            0   \n",
       "4       21826752038                 4            0   \n",
       "...             ...               ...          ...   \n",
       "605979  21826727240                 2            0   \n",
       "605980  21826727258                 2            0   \n",
       "605981  21826783054                62            0   \n",
       "605982  21826799841                 9            0   \n",
       "605983  21821231463                23            0   \n",
       "\n",
       "7      Total Active View measurable impressions  \\\n",
       "0                                             1   \n",
       "1                                             4   \n",
       "2                                             4   \n",
       "3                                             4   \n",
       "4                                             4   \n",
       "...                                         ...   \n",
       "605979                                        2   \n",
       "605980                                        2   \n",
       "605981                                       62   \n",
       "605982                                        9   \n",
       "605983                                       23   \n",
       "\n",
       "7      Total Active View viewable impressions  \n",
       "0                                           0  \n",
       "1                                           4  \n",
       "2                                           4  \n",
       "3                                           3  \n",
       "4                                           4  \n",
       "...                                       ...  \n",
       "605979                                      1  \n",
       "605980                                      2  \n",
       "605981                                     26  \n",
       "605982                                      6  \n",
       "605983                                      0  \n",
       "\n",
       "[605984 rows x 11 columns]"
      ]
     },
     "execution_count": 9,
     "metadata": {},
     "output_type": "execute_result"
    }
   ],
   "source": [
    "df"
   ]
  },
  {
   "cell_type": "code",
   "execution_count": 10,
   "metadata": {},
   "outputs": [],
   "source": [
    "### first remove commas\n",
    "df['Total impressions'].replace(',','', regex=True, inplace=True)\n",
    "df['Total clicks'].replace(',','', regex=True, inplace=True)\n",
    "df['Total Active View measurable impressions'].replace(',','', regex=True, inplace=True)\n",
    "df['Total Active View viewable impressions'].replace(',','', regex=True, inplace=True)\n",
    "\n",
    "## convert into integer\n",
    "df['Total impressions'] = pd.to_numeric(df['Total impressions'], errors='ignore')\n",
    "df['Total clicks'] = pd.to_numeric(df['Total clicks'], errors='ignore')\n",
    "df['Total Active View measurable impressions']=pd.to_numeric(df['Total Active View measurable impressions'], errors='ignore')\n",
    "df['Total Active View viewable impressions'] = pd.to_numeric(df['Total Active View viewable impressions'], errors='ignore')\n"
   ]
  },
  {
   "cell_type": "code",
   "execution_count": 11,
   "metadata": {},
   "outputs": [
    {
     "data": {
      "text/plain": [
       "552973597"
      ]
     },
     "execution_count": 11,
     "metadata": {},
     "output_type": "execute_result"
    }
   ],
   "source": [
    "df['Total impressions'].sum()"
   ]
  },
  {
   "cell_type": "code",
   "execution_count": null,
   "metadata": {},
   "outputs": [],
   "source": [
    "# #del df\n",
    "# df = pd.read_csv('DFPDashboard_20200105_20200219.csv', error_bad_lines=False, index_col=False, dtype='unicode')\n",
    "# #df = pd.read_csv('DFPDashboard_20191027_20200104.csv')"
   ]
  },
  {
   "cell_type": "code",
   "execution_count": 12,
   "metadata": {},
   "outputs": [],
   "source": [
    "#df.columns = df.iloc[7]\n",
    "#df = df[8:-1].reset_index(drop = True)\n",
    "#df = df[:-1].reset_index(drop = True)\n",
    "\n",
    "# rename creative size\n",
    "df.rename(columns={df.columns[3]: \"creative size\" }, inplace = True)"
   ]
  },
  {
   "cell_type": "code",
   "execution_count": null,
   "metadata": {},
   "outputs": [],
   "source": [
    "#df"
   ]
  },
  {
   "cell_type": "markdown",
   "metadata": {},
   "source": [
    "#### Transformation"
   ]
  },
  {
   "cell_type": "code",
   "execution_count": 13,
   "metadata": {},
   "outputs": [],
   "source": [
    "# Assign Programmatic / Direct column\n",
    "df.loc[df['Programmatic channel']=='(Not applicable)','Programmatic'] = 'Programmatic'\n",
    "df.loc[df['Programmatic channel']!='(Not applicable)','Programmatic'] = 'Direct'"
   ]
  },
  {
   "cell_type": "code",
   "execution_count": 14,
   "metadata": {},
   "outputs": [],
   "source": [
    "#df['Host'].unique()"
   ]
  },
  {
   "cell_type": "code",
   "execution_count": 15,
   "metadata": {},
   "outputs": [],
   "source": [
    "# Assign Platform column\n",
    "df.loc[df['Ad unit'].str.contains('MobileApp'),'Platform']='Mobile App'\n",
    "df.loc[df['Ad unit'].str.contains('_App'),'Platform']='Mobile App'\n",
    "df.loc[df['Ad unit'].str.contains('_mDot'),'Platform']='Mobile Web'\n",
    "df.loc[df['Ad unit'].str.contains('MDot'),'Platform']='Mobile Web'\n",
    "df['Platform'].fillna('Desktop',inplace=True)"
   ]
  },
  {
   "cell_type": "code",
   "execution_count": 16,
   "metadata": {},
   "outputs": [],
   "source": [
    "# Assign Host column\n",
    "df.loc[df['Ad unit'].str.contains('LesPac'),'Host']='LesPac'\n",
    "df.loc[df['Ad unit'].str.contains('autoTRADER'),'Host']='autoTRADER'\n",
    "df.loc[df['Ad unit'].str.contains('autoHEBDO'),'Host']='autoHEBDO'\n",
    "df['Host'].fillna('Other',inplace=True)"
   ]
  },
  {
   "cell_type": "code",
   "execution_count": 17,
   "metadata": {},
   "outputs": [],
   "source": [
    "# Assign Language column\n",
    "df.loc[df['Ad unit'].str.contains('_FR'),'Language']='FR'\n",
    "df.loc[df['Ad unit'].str.contains('_EN'),'Language']='EN'\n",
    "# in case langugae is not assigned in ad unit, we assume language based on the host\n",
    "df.loc[df['Host'].str.contains('autoHEBDO'),'Language']='FR'\n",
    "df.loc[df['Host'].str.contains('autoTRADER'),'Language']='EN'\n",
    "df['Language'].fillna('Unknown',inplace=True)"
   ]
  },
  {
   "cell_type": "code",
   "execution_count": 18,
   "metadata": {},
   "outputs": [],
   "source": [
    "# Assign Product based on creative size\n",
    "\n",
    "creative_size =pd.read_csv('Creative_Size.csv')\n",
    "creative_size.rename(columns={creative_size.columns[1]: \"creative size\" }, inplace = True)\n",
    "#creative_size\n",
    "\n",
    "#### merge\n",
    "df = pd.merge(df,creative_size, on ='creative size',how='left')\n",
    "df['Product'].fillna('Other',inplace=True)\n",
    "#https://chrisalbon.com/python/data_wrangling/pandas_join_merge_dataframe/"
   ]
  },
  {
   "cell_type": "code",
   "execution_count": 19,
   "metadata": {},
   "outputs": [],
   "source": [
    "#### show all the creative size\n",
    "#import sys\n",
    "#import numpy\n",
    "#numpy.set_printoptions(threshold=sys.maxsize)\n",
    "#print(df['Creative size (delivered)'].unique())"
   ]
  },
  {
   "cell_type": "code",
   "execution_count": 20,
   "metadata": {},
   "outputs": [],
   "source": [
    "# Assign Page\n",
    "\n",
    "df.loc[df['Ad unit'].str.contains('Details'),'Page']='VDP'\n",
    "df.loc[df['Ad unit'].str.contains('Homepage'),'Page']='Homepage'\n",
    "df.loc[df['Ad unit'].str.contains('Results'),'Page']='SRP'\n",
    "df['Page'].fillna('Other',inplace=True)"
   ]
  },
  {
   "cell_type": "code",
   "execution_count": 21,
   "metadata": {},
   "outputs": [],
   "source": [
    "# Assign Category\n",
    "\n",
    "ncc =pd.read_csv('national_commercial_category.csv')\n",
    "ncc.rename(columns={ncc.columns[1]: \"Category\" }, inplace = True)\n",
    "ncc.Category[0] = 'Other'\n",
    "df = pd.merge(df,ncc, on ='Advertiser',how='left')\n",
    "df['Category'].fillna('Other',inplace=True)\n",
    "\n",
    "#df.loc[df['Advertiser'].str.contains('Details'),'Category']='VDP'\n",
    "#df.loc[df['Advertiser'].str.contains('Homepage'),'Category']='Homepage'\n",
    "#df['Page'].fillna('Other',inplace=True)"
   ]
  },
  {
   "cell_type": "markdown",
   "metadata": {},
   "source": [
    "#### Drop unnecessary columns"
   ]
  },
  {
   "cell_type": "code",
   "execution_count": 22,
   "metadata": {},
   "outputs": [
    {
     "data": {
      "text/plain": [
       "Index(['Date', 'Advertiser', 'Programmatic channel', 'creative size',\n",
       "       'Ad unit', 'Advertiser ID', 'Ad unit ID', 'Total impressions',\n",
       "       'Total clicks', 'Total Active View measurable impressions',\n",
       "       'Total Active View viewable impressions', 'Programmatic', 'Platform',\n",
       "       'Host', 'Language', 'Product', 'Page', 'Category'],\n",
       "      dtype='object')"
      ]
     },
     "execution_count": 22,
     "metadata": {},
     "output_type": "execute_result"
    }
   ],
   "source": [
    "df.columns"
   ]
  },
  {
   "cell_type": "markdown",
   "metadata": {},
   "source": [
    "#### Convert numeric values (impressions, clicks) into INT from STR"
   ]
  },
  {
   "cell_type": "code",
   "execution_count": 23,
   "metadata": {},
   "outputs": [
    {
     "name": "stdout",
     "output_type": "stream",
     "text": [
      "The data type for Tota impressions is <class 'numpy.int64'>\n"
     ]
    }
   ],
   "source": [
    "print(f\"The data type for Tota impressions is {type(df['Total impressions'][10])}\")"
   ]
  },
  {
   "cell_type": "code",
   "execution_count": 24,
   "metadata": {},
   "outputs": [],
   "source": [
    "# summarize the table\n",
    "#df_summary = df.groupby(['Date','Advertiser','Programmatic','Product','Platform','Page','Language','Host','Category']).agg({'Total clicks':'sum'})\n",
    "#df_summary"
   ]
  },
  {
   "cell_type": "code",
   "execution_count": 25,
   "metadata": {},
   "outputs": [],
   "source": [
    "#### Convert Date from str to date.time\n",
    "import datetime\n",
    "df['Date']= pd.to_datetime(df['Date']) "
   ]
  },
  {
   "cell_type": "markdown",
   "metadata": {},
   "source": [
    "#### Assign Week Number"
   ]
  },
  {
   "cell_type": "code",
   "execution_count": 26,
   "metadata": {},
   "outputs": [],
   "source": [
    "# Because Pandas week function starts from Monday, you need to shift a date forward\n",
    "\n",
    "from datetime import date, timedelta\n",
    "df['Date alpha'] = df['Date'] + timedelta(days=1)\n",
    "df['Week']= df['Date alpha'].dt.week"
   ]
  },
  {
   "cell_type": "code",
   "execution_count": 27,
   "metadata": {},
   "outputs": [],
   "source": [
    "#df.drop(columns=['Programmatic channel', 'creative size','Ad unit','Advertiser ID','Ad unit ID'],inplace=True)\n",
    "\n",
    "# rearrange columns\n",
    "df = df[['Date','Advertiser','Programmatic','Product','Platform','Page','Language','Host','Category','Total impressions','Total clicks','Total Active View measurable impressions','Total Active View viewable impressions']]\n",
    "#df = df[['Week','Programmatic','Product','Platform','Page','Language','Host','Category','Total impressions','Total clicks','Total Active View measurable impressions','Total Active View viewable impressions']]"
   ]
  },
  {
   "cell_type": "markdown",
   "metadata": {},
   "source": [
    "### Append working file into the master data"
   ]
  },
  {
   "cell_type": "code",
   "execution_count": 28,
   "metadata": {},
   "outputs": [
    {
     "data": {
      "text/html": [
       "<div>\n",
       "<style scoped>\n",
       "    .dataframe tbody tr th:only-of-type {\n",
       "        vertical-align: middle;\n",
       "    }\n",
       "\n",
       "    .dataframe tbody tr th {\n",
       "        vertical-align: top;\n",
       "    }\n",
       "\n",
       "    .dataframe thead th {\n",
       "        text-align: right;\n",
       "    }\n",
       "</style>\n",
       "<table border=\"1\" class=\"dataframe\">\n",
       "  <thead>\n",
       "    <tr style=\"text-align: right;\">\n",
       "      <th></th>\n",
       "      <th>Date</th>\n",
       "      <th>Advertiser</th>\n",
       "      <th>Programmatic</th>\n",
       "      <th>Product</th>\n",
       "      <th>Platform</th>\n",
       "      <th>Page</th>\n",
       "      <th>Language</th>\n",
       "      <th>Host</th>\n",
       "      <th>Category</th>\n",
       "      <th>Total impressions</th>\n",
       "      <th>Total clicks</th>\n",
       "      <th>Total Active View measurable impressions</th>\n",
       "      <th>Total Active View viewable impressions</th>\n",
       "    </tr>\n",
       "  </thead>\n",
       "  <tbody>\n",
       "  </tbody>\n",
       "</table>\n",
       "</div>"
      ],
      "text/plain": [
       "Empty DataFrame\n",
       "Columns: [Date, Advertiser, Programmatic, Product, Platform, Page, Language, Host, Category, Total impressions, Total clicks, Total Active View measurable impressions, Total Active View viewable impressions]\n",
       "Index: []"
      ]
     },
     "execution_count": 28,
     "metadata": {},
     "output_type": "execute_result"
    }
   ],
   "source": [
    "column_names = ['Date','Advertiser','Programmatic','Product','Platform','Page','Language','Host','Category','Total impressions','Total clicks',\n",
    "                'Total Active View measurable impressions','Total Active View viewable impressions']\n",
    "df_master= pd.DataFrame(columns = column_names)\n",
    "#df_master = pd.read_csv('df_master.csv')\n",
    "#df_master['Date']= pd.to_datetime(df_master['Date']) \n",
    "df_master"
   ]
  },
  {
   "cell_type": "code",
   "execution_count": null,
   "metadata": {},
   "outputs": [],
   "source": [
    "#type(df['Date'][23])"
   ]
  },
  {
   "cell_type": "code",
   "execution_count": 29,
   "metadata": {},
   "outputs": [],
   "source": [
    "frames = [df_master,df]\n",
    "df_master = pd.concat(frames).sort_values(by=['Date'],ascending=True).reset_index(drop=True)"
   ]
  },
  {
   "cell_type": "code",
   "execution_count": null,
   "metadata": {},
   "outputs": [],
   "source": [
    "#df_master.loc[df_master['Date']>'2020-01-04']"
   ]
  },
  {
   "cell_type": "code",
   "execution_count": 29,
   "metadata": {},
   "outputs": [],
   "source": [
    "df.to_csv('df_master.csv',index=False)"
   ]
  },
  {
   "cell_type": "code",
   "execution_count": null,
   "metadata": {},
   "outputs": [],
   "source": [
    "#df['Date'].sort_values(ascending=True).unique()"
   ]
  },
  {
   "cell_type": "code",
   "execution_count": null,
   "metadata": {},
   "outputs": [],
   "source": [
    "df = df.groupby(['Week','Programmatic','Product','Platform','Page','Language','Host','Category']).agg({'Total impressions':'sum','Total clicks':'sum','Total Active View measurable impressions':'sum','Total Active View viewable impressions':'sum'}).sort_values(by='Total impressions',ascending=False).reset_index()"
   ]
  },
  {
   "cell_type": "code",
   "execution_count": 30,
   "metadata": {},
   "outputs": [
    {
     "data": {
      "text/html": [
       "<div>\n",
       "<style scoped>\n",
       "    .dataframe tbody tr th:only-of-type {\n",
       "        vertical-align: middle;\n",
       "    }\n",
       "\n",
       "    .dataframe tbody tr th {\n",
       "        vertical-align: top;\n",
       "    }\n",
       "\n",
       "    .dataframe thead th {\n",
       "        text-align: right;\n",
       "    }\n",
       "</style>\n",
       "<table border=\"1\" class=\"dataframe\">\n",
       "  <thead>\n",
       "    <tr style=\"text-align: right;\">\n",
       "      <th></th>\n",
       "      <th>Date</th>\n",
       "      <th>Advertiser</th>\n",
       "      <th>Programmatic</th>\n",
       "      <th>Product</th>\n",
       "      <th>Platform</th>\n",
       "      <th>Page</th>\n",
       "      <th>Language</th>\n",
       "      <th>Host</th>\n",
       "      <th>Category</th>\n",
       "      <th>Total impressions</th>\n",
       "      <th>Total clicks</th>\n",
       "      <th>Total Active View measurable impressions</th>\n",
       "      <th>Total Active View viewable impressions</th>\n",
       "    </tr>\n",
       "  </thead>\n",
       "  <tbody>\n",
       "  </tbody>\n",
       "</table>\n",
       "</div>"
      ],
      "text/plain": [
       "Empty DataFrame\n",
       "Columns: [Date, Advertiser, Programmatic, Product, Platform, Page, Language, Host, Category, Total impressions, Total clicks, Total Active View measurable impressions, Total Active View viewable impressions]\n",
       "Index: []"
      ]
     },
     "execution_count": 30,
     "metadata": {},
     "output_type": "execute_result"
    }
   ],
   "source": [
    "df[df.Category == 'Unknown']"
   ]
  },
  {
   "cell_type": "code",
   "execution_count": 31,
   "metadata": {},
   "outputs": [
    {
     "data": {
      "text/html": [
       "<div>\n",
       "<style scoped>\n",
       "    .dataframe tbody tr th:only-of-type {\n",
       "        vertical-align: middle;\n",
       "    }\n",
       "\n",
       "    .dataframe tbody tr th {\n",
       "        vertical-align: top;\n",
       "    }\n",
       "\n",
       "    .dataframe thead th {\n",
       "        text-align: right;\n",
       "    }\n",
       "</style>\n",
       "<table border=\"1\" class=\"dataframe\">\n",
       "  <thead>\n",
       "    <tr style=\"text-align: right;\">\n",
       "      <th></th>\n",
       "      <th>Date</th>\n",
       "      <th>Advertiser</th>\n",
       "      <th>Programmatic</th>\n",
       "      <th>Product</th>\n",
       "      <th>Platform</th>\n",
       "      <th>Page</th>\n",
       "      <th>Language</th>\n",
       "      <th>Host</th>\n",
       "      <th>Category</th>\n",
       "      <th>Total impressions</th>\n",
       "      <th>Total clicks</th>\n",
       "      <th>Total Active View measurable impressions</th>\n",
       "      <th>Total Active View viewable impressions</th>\n",
       "    </tr>\n",
       "  </thead>\n",
       "  <tbody>\n",
       "    <tr>\n",
       "      <th>0</th>\n",
       "      <td>2020-02-02</td>\n",
       "      <td>-</td>\n",
       "      <td>Direct</td>\n",
       "      <td>Other</td>\n",
       "      <td>Mobile App</td>\n",
       "      <td>SRP</td>\n",
       "      <td>FR</td>\n",
       "      <td>LesPac</td>\n",
       "      <td>Other</td>\n",
       "      <td>1</td>\n",
       "      <td>0</td>\n",
       "      <td>1</td>\n",
       "      <td>0</td>\n",
       "    </tr>\n",
       "    <tr>\n",
       "      <th>1</th>\n",
       "      <td>2020-02-02</td>\n",
       "      <td>-</td>\n",
       "      <td>Direct</td>\n",
       "      <td>Other</td>\n",
       "      <td>Mobile App</td>\n",
       "      <td>SRP</td>\n",
       "      <td>FR</td>\n",
       "      <td>LesPac</td>\n",
       "      <td>Other</td>\n",
       "      <td>4</td>\n",
       "      <td>0</td>\n",
       "      <td>4</td>\n",
       "      <td>4</td>\n",
       "    </tr>\n",
       "    <tr>\n",
       "      <th>2</th>\n",
       "      <td>2020-02-02</td>\n",
       "      <td>-</td>\n",
       "      <td>Direct</td>\n",
       "      <td>Other</td>\n",
       "      <td>Mobile App</td>\n",
       "      <td>SRP</td>\n",
       "      <td>FR</td>\n",
       "      <td>LesPac</td>\n",
       "      <td>Other</td>\n",
       "      <td>4</td>\n",
       "      <td>0</td>\n",
       "      <td>4</td>\n",
       "      <td>4</td>\n",
       "    </tr>\n",
       "    <tr>\n",
       "      <th>3</th>\n",
       "      <td>2020-02-02</td>\n",
       "      <td>-</td>\n",
       "      <td>Direct</td>\n",
       "      <td>Other</td>\n",
       "      <td>Mobile App</td>\n",
       "      <td>SRP</td>\n",
       "      <td>FR</td>\n",
       "      <td>LesPac</td>\n",
       "      <td>Other</td>\n",
       "      <td>4</td>\n",
       "      <td>0</td>\n",
       "      <td>4</td>\n",
       "      <td>3</td>\n",
       "    </tr>\n",
       "    <tr>\n",
       "      <th>4</th>\n",
       "      <td>2020-02-02</td>\n",
       "      <td>-</td>\n",
       "      <td>Direct</td>\n",
       "      <td>Other</td>\n",
       "      <td>Mobile App</td>\n",
       "      <td>SRP</td>\n",
       "      <td>FR</td>\n",
       "      <td>LesPac</td>\n",
       "      <td>Other</td>\n",
       "      <td>4</td>\n",
       "      <td>0</td>\n",
       "      <td>4</td>\n",
       "      <td>4</td>\n",
       "    </tr>\n",
       "    <tr>\n",
       "      <th>5</th>\n",
       "      <td>2020-02-02</td>\n",
       "      <td>-</td>\n",
       "      <td>Direct</td>\n",
       "      <td>Other</td>\n",
       "      <td>Mobile App</td>\n",
       "      <td>SRP</td>\n",
       "      <td>FR</td>\n",
       "      <td>LesPac</td>\n",
       "      <td>Other</td>\n",
       "      <td>16</td>\n",
       "      <td>0</td>\n",
       "      <td>16</td>\n",
       "      <td>12</td>\n",
       "    </tr>\n",
       "    <tr>\n",
       "      <th>6</th>\n",
       "      <td>2020-02-02</td>\n",
       "      <td>-</td>\n",
       "      <td>Direct</td>\n",
       "      <td>Other</td>\n",
       "      <td>Mobile App</td>\n",
       "      <td>SRP</td>\n",
       "      <td>FR</td>\n",
       "      <td>LesPac</td>\n",
       "      <td>Other</td>\n",
       "      <td>5</td>\n",
       "      <td>0</td>\n",
       "      <td>4</td>\n",
       "      <td>3</td>\n",
       "    </tr>\n",
       "    <tr>\n",
       "      <th>7</th>\n",
       "      <td>2020-02-02</td>\n",
       "      <td>-</td>\n",
       "      <td>Direct</td>\n",
       "      <td>Other</td>\n",
       "      <td>Mobile App</td>\n",
       "      <td>SRP</td>\n",
       "      <td>FR</td>\n",
       "      <td>LesPac</td>\n",
       "      <td>Other</td>\n",
       "      <td>1</td>\n",
       "      <td>0</td>\n",
       "      <td>1</td>\n",
       "      <td>1</td>\n",
       "    </tr>\n",
       "    <tr>\n",
       "      <th>8</th>\n",
       "      <td>2020-02-02</td>\n",
       "      <td>-</td>\n",
       "      <td>Direct</td>\n",
       "      <td>Other</td>\n",
       "      <td>Mobile App</td>\n",
       "      <td>SRP</td>\n",
       "      <td>FR</td>\n",
       "      <td>LesPac</td>\n",
       "      <td>Other</td>\n",
       "      <td>3</td>\n",
       "      <td>0</td>\n",
       "      <td>3</td>\n",
       "      <td>3</td>\n",
       "    </tr>\n",
       "    <tr>\n",
       "      <th>9</th>\n",
       "      <td>2020-02-02</td>\n",
       "      <td>-</td>\n",
       "      <td>Direct</td>\n",
       "      <td>Other</td>\n",
       "      <td>Mobile App</td>\n",
       "      <td>SRP</td>\n",
       "      <td>FR</td>\n",
       "      <td>LesPac</td>\n",
       "      <td>Other</td>\n",
       "      <td>7</td>\n",
       "      <td>0</td>\n",
       "      <td>7</td>\n",
       "      <td>4</td>\n",
       "    </tr>\n",
       "  </tbody>\n",
       "</table>\n",
       "</div>"
      ],
      "text/plain": [
       "        Date Advertiser Programmatic Product    Platform Page Language  \\\n",
       "0 2020-02-02          -       Direct   Other  Mobile App  SRP       FR   \n",
       "1 2020-02-02          -       Direct   Other  Mobile App  SRP       FR   \n",
       "2 2020-02-02          -       Direct   Other  Mobile App  SRP       FR   \n",
       "3 2020-02-02          -       Direct   Other  Mobile App  SRP       FR   \n",
       "4 2020-02-02          -       Direct   Other  Mobile App  SRP       FR   \n",
       "5 2020-02-02          -       Direct   Other  Mobile App  SRP       FR   \n",
       "6 2020-02-02          -       Direct   Other  Mobile App  SRP       FR   \n",
       "7 2020-02-02          -       Direct   Other  Mobile App  SRP       FR   \n",
       "8 2020-02-02          -       Direct   Other  Mobile App  SRP       FR   \n",
       "9 2020-02-02          -       Direct   Other  Mobile App  SRP       FR   \n",
       "\n",
       "     Host Category  Total impressions  Total clicks  \\\n",
       "0  LesPac    Other                  1             0   \n",
       "1  LesPac    Other                  4             0   \n",
       "2  LesPac    Other                  4             0   \n",
       "3  LesPac    Other                  4             0   \n",
       "4  LesPac    Other                  4             0   \n",
       "5  LesPac    Other                 16             0   \n",
       "6  LesPac    Other                  5             0   \n",
       "7  LesPac    Other                  1             0   \n",
       "8  LesPac    Other                  3             0   \n",
       "9  LesPac    Other                  7             0   \n",
       "\n",
       "   Total Active View measurable impressions  \\\n",
       "0                                         1   \n",
       "1                                         4   \n",
       "2                                         4   \n",
       "3                                         4   \n",
       "4                                         4   \n",
       "5                                        16   \n",
       "6                                         4   \n",
       "7                                         1   \n",
       "8                                         3   \n",
       "9                                         7   \n",
       "\n",
       "   Total Active View viewable impressions  \n",
       "0                                       0  \n",
       "1                                       4  \n",
       "2                                       4  \n",
       "3                                       3  \n",
       "4                                       4  \n",
       "5                                      12  \n",
       "6                                       3  \n",
       "7                                       1  \n",
       "8                                       3  \n",
       "9                                       4  "
      ]
     },
     "execution_count": 31,
     "metadata": {},
     "output_type": "execute_result"
    }
   ],
   "source": [
    "df.head(10)"
   ]
  },
  {
   "cell_type": "code",
   "execution_count": 28,
   "metadata": {},
   "outputs": [],
   "source": [
    "df.to_csv('df_master.csv',index=False)"
   ]
  },
  {
   "cell_type": "code",
   "execution_count": null,
   "metadata": {},
   "outputs": [],
   "source": []
  }
 ],
 "metadata": {
  "kernelspec": {
   "display_name": "Python 3",
   "language": "python",
   "name": "python3"
  },
  "language_info": {
   "codemirror_mode": {
    "name": "ipython",
    "version": 3
   },
   "file_extension": ".py",
   "mimetype": "text/x-python",
   "name": "python",
   "nbconvert_exporter": "python",
   "pygments_lexer": "ipython3",
   "version": "3.7.3"
  }
 },
 "nbformat": 4,
 "nbformat_minor": 2
}
