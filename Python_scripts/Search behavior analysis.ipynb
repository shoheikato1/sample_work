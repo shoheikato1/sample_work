{
 "cells": [
  {
   "cell_type": "markdown",
   "metadata": {},
   "source": [
    "#### Step 0: Import packages and data"
   ]
  },
  {
   "cell_type": "code",
   "execution_count": 1,
   "metadata": {},
   "outputs": [],
   "source": [
    "import pandas as pd\n",
    "from pandas import ExcelWriter\n",
    "from pandas import ExcelFile\n",
    "import numpy as np"
   ]
  },
  {
   "cell_type": "code",
   "execution_count": 41,
   "metadata": {},
   "outputs": [
    {
     "data": {
      "text/html": [
       "<div>\n",
       "<style scoped>\n",
       "    .dataframe tbody tr th:only-of-type {\n",
       "        vertical-align: middle;\n",
       "    }\n",
       "\n",
       "    .dataframe tbody tr th {\n",
       "        vertical-align: top;\n",
       "    }\n",
       "\n",
       "    .dataframe thead th {\n",
       "        text-align: right;\n",
       "    }\n",
       "</style>\n",
       "<table border=\"1\" class=\"dataframe\">\n",
       "  <thead>\n",
       "    <tr style=\"text-align: right;\">\n",
       "      <th></th>\n",
       "      <th>yearMonth</th>\n",
       "      <th>region</th>\n",
       "      <th>dimension51</th>\n",
       "      <th>dimension59</th>\n",
       "      <th>dimension60</th>\n",
       "      <th>dimension53</th>\n",
       "      <th>metric1</th>\n",
       "      <th>mob_or_desk</th>\n",
       "      <th>platform</th>\n",
       "    </tr>\n",
       "  </thead>\n",
       "  <tbody>\n",
       "    <tr>\n",
       "      <th>0</th>\n",
       "      <td>201903</td>\n",
       "      <td>Quebec</td>\n",
       "      <td>not used</td>\n",
       "      <td>honda</td>\n",
       "      <td>civic sedan</td>\n",
       "      <td>''SI''</td>\n",
       "      <td>1.0</td>\n",
       "      <td>Desktop</td>\n",
       "      <td>Desktop</td>\n",
       "    </tr>\n",
       "  </tbody>\n",
       "</table>\n",
       "</div>"
      ],
      "text/plain": [
       "   yearMonth  region dimension51 dimension59  dimension60 dimension53  \\\n",
       "0     201903  Quebec    not used       honda  civic sedan      ''SI''   \n",
       "\n",
       "   metric1 mob_or_desk platform  \n",
       "0      1.0     Desktop  Desktop  "
      ]
     },
     "execution_count": 41,
     "metadata": {},
     "output_type": "execute_result"
    }
   ],
   "source": [
    "df = pd.read_csv('fuel.csv', encoding='latin-1')\n",
    "df.dimension59.str.lower()\n",
    "df.dimension60.str.lower()\n",
    "df.head(1)"
   ]
  },
  {
   "cell_type": "code",
   "execution_count": 42,
   "metadata": {},
   "outputs": [
    {
     "data": {
      "text/html": [
       "<div>\n",
       "<style scoped>\n",
       "    .dataframe tbody tr th:only-of-type {\n",
       "        vertical-align: middle;\n",
       "    }\n",
       "\n",
       "    .dataframe tbody tr th {\n",
       "        vertical-align: top;\n",
       "    }\n",
       "\n",
       "    .dataframe thead th {\n",
       "        text-align: right;\n",
       "    }\n",
       "</style>\n",
       "<table border=\"1\" class=\"dataframe\">\n",
       "  <thead>\n",
       "    <tr style=\"text-align: right;\">\n",
       "      <th></th>\n",
       "      <th>yearMonth</th>\n",
       "      <th>region</th>\n",
       "      <th>dimension59</th>\n",
       "      <th>dimension60</th>\n",
       "      <th>metric1</th>\n",
       "      <th>make_model</th>\n",
       "    </tr>\n",
       "  </thead>\n",
       "  <tbody>\n",
       "    <tr>\n",
       "      <th>0</th>\n",
       "      <td>201903</td>\n",
       "      <td>Quebec</td>\n",
       "      <td>honda</td>\n",
       "      <td>civic sedan</td>\n",
       "      <td>1.0</td>\n",
       "      <td>honda|civic sedan</td>\n",
       "    </tr>\n",
       "  </tbody>\n",
       "</table>\n",
       "</div>"
      ],
      "text/plain": [
       "   yearMonth  region dimension59  dimension60  metric1         make_model\n",
       "0     201903  Quebec       honda  civic sedan      1.0  honda|civic sedan"
      ]
     },
     "execution_count": 42,
     "metadata": {},
     "output_type": "execute_result"
    }
   ],
   "source": [
    "df_topsearch = df[['yearMonth','region','dimension59','dimension60','metric1']].copy()\n",
    "df_topsearch = df_topsearch[(df_topsearch.dimension59!='not used')&(df_topsearch.dimension60!='not used')].reset_index(drop=True)\n",
    "df_topsearch['make_model'] =  df_topsearch['dimension59'] + '|' + df_topsearch['dimension60']\n",
    "df_topsearch.head(1)"
   ]
  },
  {
   "cell_type": "markdown",
   "metadata": {},
   "source": [
    "##### Clean up Ram 1500/2500/3500/4500 series"
   ]
  },
  {
   "cell_type": "code",
   "execution_count": 52,
   "metadata": {},
   "outputs": [],
   "source": [
    "#df_topsearch.to_csv('result.csv',index=False)"
   ]
  },
  {
   "cell_type": "code",
   "execution_count": 43,
   "metadata": {},
   "outputs": [],
   "source": [
    "ram_1500 = ['ram','1500']\n",
    "ram_2500 = ['ram','1500']\n",
    "ram_3500 = ['ram','1500']\n",
    "ram_4500 = ['ram','1500']\n",
    "ram_5500 = ['ram','1500']"
   ]
  },
  {
   "cell_type": "code",
   "execution_count": 50,
   "metadata": {},
   "outputs": [
    {
     "ename": "KeyError",
     "evalue": "'make_model'",
     "output_type": "error",
     "traceback": [
      "\u001b[1;31m---------------------------------------------------------------------------\u001b[0m",
      "\u001b[1;31mKeyError\u001b[0m                                  Traceback (most recent call last)",
      "\u001b[1;32m~\\AppData\\Local\\Continuum\\anaconda3\\lib\\site-packages\\pandas\\core\\indexes\\base.py\u001b[0m in \u001b[0;36mget_loc\u001b[1;34m(self, key, method, tolerance)\u001b[0m\n\u001b[0;32m   2896\u001b[0m             \u001b[1;32mtry\u001b[0m\u001b[1;33m:\u001b[0m\u001b[1;33m\u001b[0m\u001b[1;33m\u001b[0m\u001b[0m\n\u001b[1;32m-> 2897\u001b[1;33m                 \u001b[1;32mreturn\u001b[0m \u001b[0mself\u001b[0m\u001b[1;33m.\u001b[0m\u001b[0m_engine\u001b[0m\u001b[1;33m.\u001b[0m\u001b[0mget_loc\u001b[0m\u001b[1;33m(\u001b[0m\u001b[0mkey\u001b[0m\u001b[1;33m)\u001b[0m\u001b[1;33m\u001b[0m\u001b[1;33m\u001b[0m\u001b[0m\n\u001b[0m\u001b[0;32m   2898\u001b[0m             \u001b[1;32mexcept\u001b[0m \u001b[0mKeyError\u001b[0m\u001b[1;33m:\u001b[0m\u001b[1;33m\u001b[0m\u001b[1;33m\u001b[0m\u001b[0m\n",
      "\u001b[1;32mpandas\\_libs\\index.pyx\u001b[0m in \u001b[0;36mpandas._libs.index.IndexEngine.get_loc\u001b[1;34m()\u001b[0m\n",
      "\u001b[1;32mpandas\\_libs\\index.pyx\u001b[0m in \u001b[0;36mpandas._libs.index.IndexEngine.get_loc\u001b[1;34m()\u001b[0m\n",
      "\u001b[1;32mpandas\\_libs\\hashtable_class_helper.pxi\u001b[0m in \u001b[0;36mpandas._libs.hashtable.PyObjectHashTable.get_item\u001b[1;34m()\u001b[0m\n",
      "\u001b[1;32mpandas\\_libs\\hashtable_class_helper.pxi\u001b[0m in \u001b[0;36mpandas._libs.hashtable.PyObjectHashTable.get_item\u001b[1;34m()\u001b[0m\n",
      "\u001b[1;31mKeyError\u001b[0m: 'make_model'",
      "\nDuring handling of the above exception, another exception occurred:\n",
      "\u001b[1;31mKeyError\u001b[0m                                  Traceback (most recent call last)",
      "\u001b[1;32m<ipython-input-50-bbab3d6ea5dd>\u001b[0m in \u001b[0;36m<module>\u001b[1;34m\u001b[0m\n\u001b[0;32m      2\u001b[0m \u001b[0mesc_lst\u001b[0m \u001b[1;33m=\u001b[0m \u001b[1;33m[\u001b[0m\u001b[0mre\u001b[0m\u001b[1;33m.\u001b[0m\u001b[0mescape\u001b[0m\u001b[1;33m(\u001b[0m\u001b[0ms\u001b[0m\u001b[1;33m)\u001b[0m \u001b[1;32mfor\u001b[0m \u001b[0ms\u001b[0m \u001b[1;32min\u001b[0m \u001b[0mram_1500\u001b[0m\u001b[1;33m]\u001b[0m\u001b[1;33m\u001b[0m\u001b[1;33m\u001b[0m\u001b[0m\n\u001b[0;32m      3\u001b[0m \u001b[0mpattern\u001b[0m \u001b[1;33m=\u001b[0m \u001b[1;34m'|'\u001b[0m\u001b[1;33m.\u001b[0m\u001b[0mjoin\u001b[0m\u001b[1;33m(\u001b[0m\u001b[0mesc_lst\u001b[0m\u001b[1;33m)\u001b[0m\u001b[1;33m\u001b[0m\u001b[1;33m\u001b[0m\u001b[0m\n\u001b[1;32m----> 4\u001b[1;33m \u001b[0mdf_topsearch\u001b[0m\u001b[1;33m[\u001b[0m\u001b[0mpd\u001b[0m\u001b[1;33m.\u001b[0m\u001b[0misnull\u001b[0m\u001b[1;33m(\u001b[0m\u001b[0mdf\u001b[0m\u001b[1;33m[\u001b[0m\u001b[1;34m'make_model'\u001b[0m\u001b[1;33m]\u001b[0m\u001b[1;33m)\u001b[0m \u001b[1;33m|\u001b[0m\u001b[0mdf_topsearch\u001b[0m\u001b[1;33m[\u001b[0m\u001b[1;34m'make_model'\u001b[0m\u001b[1;33m]\u001b[0m\u001b[1;33m.\u001b[0m\u001b[0mstr\u001b[0m\u001b[1;33m.\u001b[0m\u001b[0mcontains\u001b[0m\u001b[1;33m(\u001b[0m\u001b[0mpattern\u001b[0m\u001b[1;33m,\u001b[0m \u001b[0mcase\u001b[0m\u001b[1;33m=\u001b[0m\u001b[1;32mFalse\u001b[0m\u001b[1;33m)\u001b[0m\u001b[1;33m]\u001b[0m\u001b[1;33m\u001b[0m\u001b[1;33m\u001b[0m\u001b[0m\n\u001b[0m",
      "\u001b[1;32m~\\AppData\\Local\\Continuum\\anaconda3\\lib\\site-packages\\pandas\\core\\frame.py\u001b[0m in \u001b[0;36m__getitem__\u001b[1;34m(self, key)\u001b[0m\n\u001b[0;32m   2993\u001b[0m             \u001b[1;32mif\u001b[0m \u001b[0mself\u001b[0m\u001b[1;33m.\u001b[0m\u001b[0mcolumns\u001b[0m\u001b[1;33m.\u001b[0m\u001b[0mnlevels\u001b[0m \u001b[1;33m>\u001b[0m \u001b[1;36m1\u001b[0m\u001b[1;33m:\u001b[0m\u001b[1;33m\u001b[0m\u001b[1;33m\u001b[0m\u001b[0m\n\u001b[0;32m   2994\u001b[0m                 \u001b[1;32mreturn\u001b[0m \u001b[0mself\u001b[0m\u001b[1;33m.\u001b[0m\u001b[0m_getitem_multilevel\u001b[0m\u001b[1;33m(\u001b[0m\u001b[0mkey\u001b[0m\u001b[1;33m)\u001b[0m\u001b[1;33m\u001b[0m\u001b[1;33m\u001b[0m\u001b[0m\n\u001b[1;32m-> 2995\u001b[1;33m             \u001b[0mindexer\u001b[0m \u001b[1;33m=\u001b[0m \u001b[0mself\u001b[0m\u001b[1;33m.\u001b[0m\u001b[0mcolumns\u001b[0m\u001b[1;33m.\u001b[0m\u001b[0mget_loc\u001b[0m\u001b[1;33m(\u001b[0m\u001b[0mkey\u001b[0m\u001b[1;33m)\u001b[0m\u001b[1;33m\u001b[0m\u001b[1;33m\u001b[0m\u001b[0m\n\u001b[0m\u001b[0;32m   2996\u001b[0m             \u001b[1;32mif\u001b[0m \u001b[0mis_integer\u001b[0m\u001b[1;33m(\u001b[0m\u001b[0mindexer\u001b[0m\u001b[1;33m)\u001b[0m\u001b[1;33m:\u001b[0m\u001b[1;33m\u001b[0m\u001b[1;33m\u001b[0m\u001b[0m\n\u001b[0;32m   2997\u001b[0m                 \u001b[0mindexer\u001b[0m \u001b[1;33m=\u001b[0m \u001b[1;33m[\u001b[0m\u001b[0mindexer\u001b[0m\u001b[1;33m]\u001b[0m\u001b[1;33m\u001b[0m\u001b[1;33m\u001b[0m\u001b[0m\n",
      "\u001b[1;32m~\\AppData\\Local\\Continuum\\anaconda3\\lib\\site-packages\\pandas\\core\\indexes\\base.py\u001b[0m in \u001b[0;36mget_loc\u001b[1;34m(self, key, method, tolerance)\u001b[0m\n\u001b[0;32m   2897\u001b[0m                 \u001b[1;32mreturn\u001b[0m \u001b[0mself\u001b[0m\u001b[1;33m.\u001b[0m\u001b[0m_engine\u001b[0m\u001b[1;33m.\u001b[0m\u001b[0mget_loc\u001b[0m\u001b[1;33m(\u001b[0m\u001b[0mkey\u001b[0m\u001b[1;33m)\u001b[0m\u001b[1;33m\u001b[0m\u001b[1;33m\u001b[0m\u001b[0m\n\u001b[0;32m   2898\u001b[0m             \u001b[1;32mexcept\u001b[0m \u001b[0mKeyError\u001b[0m\u001b[1;33m:\u001b[0m\u001b[1;33m\u001b[0m\u001b[1;33m\u001b[0m\u001b[0m\n\u001b[1;32m-> 2899\u001b[1;33m                 \u001b[1;32mreturn\u001b[0m \u001b[0mself\u001b[0m\u001b[1;33m.\u001b[0m\u001b[0m_engine\u001b[0m\u001b[1;33m.\u001b[0m\u001b[0mget_loc\u001b[0m\u001b[1;33m(\u001b[0m\u001b[0mself\u001b[0m\u001b[1;33m.\u001b[0m\u001b[0m_maybe_cast_indexer\u001b[0m\u001b[1;33m(\u001b[0m\u001b[0mkey\u001b[0m\u001b[1;33m)\u001b[0m\u001b[1;33m)\u001b[0m\u001b[1;33m\u001b[0m\u001b[1;33m\u001b[0m\u001b[0m\n\u001b[0m\u001b[0;32m   2900\u001b[0m         \u001b[0mindexer\u001b[0m \u001b[1;33m=\u001b[0m \u001b[0mself\u001b[0m\u001b[1;33m.\u001b[0m\u001b[0mget_indexer\u001b[0m\u001b[1;33m(\u001b[0m\u001b[1;33m[\u001b[0m\u001b[0mkey\u001b[0m\u001b[1;33m]\u001b[0m\u001b[1;33m,\u001b[0m \u001b[0mmethod\u001b[0m\u001b[1;33m=\u001b[0m\u001b[0mmethod\u001b[0m\u001b[1;33m,\u001b[0m \u001b[0mtolerance\u001b[0m\u001b[1;33m=\u001b[0m\u001b[0mtolerance\u001b[0m\u001b[1;33m)\u001b[0m\u001b[1;33m\u001b[0m\u001b[1;33m\u001b[0m\u001b[0m\n\u001b[0;32m   2901\u001b[0m         \u001b[1;32mif\u001b[0m \u001b[0mindexer\u001b[0m\u001b[1;33m.\u001b[0m\u001b[0mndim\u001b[0m \u001b[1;33m>\u001b[0m \u001b[1;36m1\u001b[0m \u001b[1;32mor\u001b[0m \u001b[0mindexer\u001b[0m\u001b[1;33m.\u001b[0m\u001b[0msize\u001b[0m \u001b[1;33m>\u001b[0m \u001b[1;36m1\u001b[0m\u001b[1;33m:\u001b[0m\u001b[1;33m\u001b[0m\u001b[1;33m\u001b[0m\u001b[0m\n",
      "\u001b[1;32mpandas\\_libs\\index.pyx\u001b[0m in \u001b[0;36mpandas._libs.index.IndexEngine.get_loc\u001b[1;34m()\u001b[0m\n",
      "\u001b[1;32mpandas\\_libs\\index.pyx\u001b[0m in \u001b[0;36mpandas._libs.index.IndexEngine.get_loc\u001b[1;34m()\u001b[0m\n",
      "\u001b[1;32mpandas\\_libs\\hashtable_class_helper.pxi\u001b[0m in \u001b[0;36mpandas._libs.hashtable.PyObjectHashTable.get_item\u001b[1;34m()\u001b[0m\n",
      "\u001b[1;32mpandas\\_libs\\hashtable_class_helper.pxi\u001b[0m in \u001b[0;36mpandas._libs.hashtable.PyObjectHashTable.get_item\u001b[1;34m()\u001b[0m\n",
      "\u001b[1;31mKeyError\u001b[0m: 'make_model'"
     ]
    }
   ],
   "source": [
    "import re\n",
    "esc_lst = [re.escape(s) for s in ram_1500]\n",
    "pattern = '|'.join(esc_lst)\n",
    "df_topsearch[pd.isnull(df['make_model']) |df_topsearch['make_model'].str.contains(pattern, case=False)]"
   ]
  },
  {
   "cell_type": "code",
   "execution_count": 44,
   "metadata": {},
   "outputs": [
    {
     "ename": "SyntaxError",
     "evalue": "unexpected EOF while parsing (<ipython-input-44-361ef20fccf5>, line 1)",
     "output_type": "error",
     "traceback": [
      "\u001b[1;36m  File \u001b[1;32m\"<ipython-input-44-361ef20fccf5>\"\u001b[1;36m, line \u001b[1;32m1\u001b[0m\n\u001b[1;33m    df_topsearch[df_topsearch.make_model.isin(ram_1500)\u001b[0m\n\u001b[1;37m                                                       ^\u001b[0m\n\u001b[1;31mSyntaxError\u001b[0m\u001b[1;31m:\u001b[0m unexpected EOF while parsing\n"
     ]
    }
   ],
   "source": [
    "df_topsearch.loc[df_topsearch.make_model.isin(ram_1500),'']"
   ]
  },
  {
   "cell_type": "markdown",
   "metadata": {},
   "source": [
    "#### Top searched vehicles (National)"
   ]
  },
  {
   "cell_type": "code",
   "execution_count": 40,
   "metadata": {
    "scrolled": true
   },
   "outputs": [
    {
     "data": {
      "text/html": [
       "<div>\n",
       "<style scoped>\n",
       "    .dataframe tbody tr th:only-of-type {\n",
       "        vertical-align: middle;\n",
       "    }\n",
       "\n",
       "    .dataframe tbody tr th {\n",
       "        vertical-align: top;\n",
       "    }\n",
       "\n",
       "    .dataframe thead th {\n",
       "        text-align: right;\n",
       "    }\n",
       "</style>\n",
       "<table border=\"1\" class=\"dataframe\">\n",
       "  <thead>\n",
       "    <tr style=\"text-align: right;\">\n",
       "      <th></th>\n",
       "      <th>make_model</th>\n",
       "      <th>metric1</th>\n",
       "    </tr>\n",
       "  </thead>\n",
       "  <tbody>\n",
       "    <tr>\n",
       "      <th>0</th>\n",
       "      <td>ford|f-150</td>\n",
       "      <td>3125458.0</td>\n",
       "    </tr>\n",
       "    <tr>\n",
       "      <th>1</th>\n",
       "      <td>honda|civic</td>\n",
       "      <td>2914352.0</td>\n",
       "    </tr>\n",
       "    <tr>\n",
       "      <th>2</th>\n",
       "      <td>honda|cr-v</td>\n",
       "      <td>2334617.0</td>\n",
       "    </tr>\n",
       "    <tr>\n",
       "      <th>3</th>\n",
       "      <td>bmw|3 series</td>\n",
       "      <td>1944993.0</td>\n",
       "    </tr>\n",
       "    <tr>\n",
       "      <th>4</th>\n",
       "      <td>ford|mustang</td>\n",
       "      <td>1919493.0</td>\n",
       "    </tr>\n",
       "  </tbody>\n",
       "</table>\n",
       "</div>"
      ],
      "text/plain": [
       "     make_model    metric1\n",
       "0    ford|f-150  3125458.0\n",
       "1   honda|civic  2914352.0\n",
       "2    honda|cr-v  2334617.0\n",
       "3  bmw|3 series  1944993.0\n",
       "4  ford|mustang  1919493.0"
      ]
     },
     "execution_count": 40,
     "metadata": {},
     "output_type": "execute_result"
    }
   ],
   "source": [
    "df_top_national = df_topsearch.groupby(\"make_model\").agg({\"metric1\":'sum'}).sort_values(by='metric1',ascending=False).reset_index()\n",
    "df_top_national.head(5)"
   ]
  },
  {
   "cell_type": "code",
   "execution_count": 32,
   "metadata": {},
   "outputs": [
    {
     "data": {
      "text/plain": [
       "['ram|1500',\n",
       " 'dodge or ram|1500',\n",
       " 'dodge or ram|challenger',\n",
       " 'dodge or ram|grand caravan',\n",
       " 'ram|2500',\n",
       " 'dodge or ram|charger',\n",
       " 'dodge or ram|2500',\n",
       " 'dodge|ram 1500 pickup',\n",
       " 'dodge or ram|durango',\n",
       " 'ram|3500',\n",
       " 'dodge or ram|caravan',\n",
       " 'dodge or ram|3500',\n",
       " 'dodge or ram|journey',\n",
       " 'dodge or ram|ram 1500 pickup',\n",
       " 'ram|1500 classic',\n",
       " 'dodge or ram|ram 2500 pickup',\n",
       " 'dodge|ram 2500 pickup',\n",
       " 'dodge or ram|dakota',\n",
       " 'dodge|ram 3500 pickup',\n",
       " 'dodge or ram|viper',\n",
       " 'dodge or ram|1500 classic',\n",
       " 'dodge or ram|dart',\n",
       " 'dodge or ram|ram',\n",
       " 'ram|promaster city',\n",
       " 'dodge or ram|ram 3500 pickup',\n",
       " 'dodge or ram|caliber',\n",
       " 'dodge or ram|150',\n",
       " 'dodge or ram|avenger',\n",
       " 'dodge|ram',\n",
       " 'dodge or ram|caravan c/v',\n",
       " 'dodge or ram|demon',\n",
       " 'dodge or ram|1/2 ton trucks',\n",
       " 'dodge or ram|250',\n",
       " 'dodge or ram|magnum',\n",
       " 'dodge or ram|promaster cargo van',\n",
       " 'ram|promaster cargo van',\n",
       " 'dodge or ram|nitro',\n",
       " 'dodge or ram|promaster city',\n",
       " 'dodge|ram van',\n",
       " 'ram|1500 ecodiesel',\n",
       " 'ram|150',\n",
       " 'dodge or ram|srt 10',\n",
       " 'dodge or ram|ram van',\n",
       " 'dodge or ram|350',\n",
       " 'dodge or ram|promaster city wagon',\n",
       " 'ram|5500 hd chassis',\n",
       " 'dodge or ram|5500 hd chassis',\n",
       " 'dodge or ram|stealth',\n",
       " 'ram|promaster city wagon',\n",
       " 'dodge or ram|b series van',\n",
       " 'dodge or ram|daytona',\n",
       " 'dodge or ram|unspecified',\n",
       " 'dodge or ram|coronet',\n",
       " 'dodge or ram|van',\n",
       " 'ram|promaster',\n",
       " 'dodge or ram|4500',\n",
       " 'ram|unspecified',\n",
       " 'dodge or ram|neon srt-4',\n",
       " 'dodge or ram|100',\n",
       " 'ram|250',\n",
       " 'ram|4500',\n",
       " 'dodge or ram|super bee',\n",
       " 'ram|dakota',\n",
       " 'dodge or ram|300 pickup',\n",
       " 'dodge or ram|neon',\n",
       " 'ram|srt 10',\n",
       " 'dodge|ramcharger',\n",
       " 'dodge or ram|power ram',\n",
       " 'dodge or ram|ramcharger',\n",
       " 'dodge|ram 1500',\n",
       " 'ram|rebel',\n",
       " 'dodge or ram|sx 2.0',\n",
       " 'dodge|rampage',\n",
       " 'dodge or ram|fargo',\n",
       " 'dodge or ram|promaster cutaway',\n",
       " 'ram|350',\n",
       " 'dodge or ram|vans',\n",
       " 'dodge or ram|440',\n",
       " 'ram|promaster cutaway',\n",
       " 'dodge or ram|trucks',\n",
       " 'dodge|ram srt-10',\n",
       " 'dodge or ram|custom 880',\n",
       " 'dodge or ram|spirit',\n",
       " 'ram|promaster 2500',\n",
       " 'dodge or ram|polara',\n",
       " 'dodge or ram|monaco',\n",
       " 'dodge or ram|shadow',\n",
       " 'dodge or ram|rampage',\n",
       " 'dodge or ram|024',\n",
       " 'ram|ram c-v',\n",
       " 'dodge or ram|d series pickup',\n",
       " 'ram|promaster 1500',\n",
       " 'dodge|ram+1500+pickup',\n",
       " 'ram|100',\n",
       " 'dodge|power ram',\n",
       " 'jeep|scrambler 4wd',\n",
       " 'dodge|ram 2500',\n",
       " 'ram|promaster 3500',\n",
       " 'dodge or ram|aspen',\n",
       " 'dodge or ram|wagon',\n",
       " 'dodge or ram|brothers',\n",
       " 'dodge|ram 3500',\n",
       " 'american motors (amc)|rambler',\n",
       " 'dodge or ram|d series',\n",
       " 'dodge or ram|ram 4500 cab-chassis',\n",
       " 'dodge or ram|stratus',\n",
       " 'dodge or ram|ram 3500 cab-chassis',\n",
       " 'dodge or ram|600',\n",
       " 'dodge or ram|aries america',\n",
       " 'ram|wagon',\n",
       " 'leer|topper for dodge ram 1500',\n",
       " 'dodge or ram|ram 1500',\n",
       " 'ram|ram 3500 cab-chassis',\n",
       " 'dodge or ram|550',\n",
       " 'ram|5500',\n",
       " 'dodge or ram|special deluxe',\n",
       " 'dodge or ram|50',\n",
       " 'dodge or ram|m-37',\n",
       " 'dodge or ram|400',\n",
       " 'dodge or ram|450',\n",
       " 'gmc|duramax',\n",
       " 'ram|ram 4500 cab-chassis',\n",
       " 'dodge or ram|deluxe',\n",
       " 'chevrolet|duramax diesel cube van',\n",
       " 'ram|power wagon',\n",
       " 'dodge|ram 1500, laramie ram box',\n",
       " 'jeep|cj-8 scrambler',\n",
       " 'ram|1500 crew cab',\n",
       " 'ram|ram 5500 cab-chassis',\n",
       " 'ram|2500 mega cab',\n",
       " 'dodge or ram|ram 5500 cab-chassis',\n",
       " 'ram|1500+classic',\n",
       " 'dodge or ram|d50',\n",
       " 'rambler|american',\n",
       " 'ram|promaster 1500 cargo van',\n",
       " 'dodge or ram|200 pickup',\n",
       " 'jeep|scrambler',\n",
       " 'dodge or ram|ram wagons',\n",
       " 'holiday rambler|augusta',\n",
       " 'dodge or ram|promaster window van',\n",
       " 'dodge|ram 5500 cab-chassis',\n",
       " 'gmc|c5500 duramax diesel',\n",
       " 'dodge|ram 1500 5.7 hemi',\n",
       " 'dodge|ram campwagon',\n",
       " 'ram|550',\n",
       " 'rambler|classic',\n",
       " 'dodge or ram|regent',\n",
       " 'ram|cargo van',\n",
       " 'honda|cl 350 scrambler',\n",
       " 'dodge|ram van b250',\n",
       " 'gmc|duramax diesel',\n",
       " 'dodge|ram 5500',\n",
       " 'ram|promaster window van',\n",
       " 'holiday rambler|vacationer diesel 34pdd',\n",
       " 'dodge|ram 4500 cab-chassis',\n",
       " 'dodge|ram+2500+pickup',\n",
       " 'ramrod|taskmaster 1150',\n",
       " 'dodge|ram 50',\n",
       " 'dodge|ram mega cab',\n",
       " 'dodge or ram|intrepid',\n",
       " 'chaloupe|niteram',\n",
       " 'ram|450',\n",
       " 'dodge|ram 3500 cab-chassis',\n",
       " 'chalet|a frame',\n",
       " 'holiday rambler|ambassador 40skq',\n",
       " 'dodge or ram|promaster chassis cab',\n",
       " 'dodge|ram+3500+pickup',\n",
       " 'ram|50',\n",
       " 'duramax|diesel',\n",
       " 'dodge or ram|royal',\n",
       " 'holiday rambler|ambassador se 38pdq',\n",
       " 'ram|1500 express black',\n",
       " 'dodge|ram 1500 regular cab',\n",
       " 'dodge|ram daytona',\n",
       " 'dodge or ram|1500 pickup',\n",
       " 'dodge or ram|diplomat',\n",
       " 'dodge or ram|ram 2500',\n",
       " 'dodge|ram wagons',\n",
       " 'dodge or ram|5500 hd chassis2019',\n",
       " 'rambler|ambassador',\n",
       " 'ram|promaster 3500 winnebago',\n",
       " 'rambler|marlin',\n",
       " 'ram|d50',\n",
       " 'dodge|ram 4500',\n",
       " 'dodge|ram big horn',\n",
       " 'holiday rambler|endeavor',\n",
       " 'ram|1500 regular cab',\n",
       " 'dodge|ram 2500 mega cab',\n",
       " 'pleasure-way|vrl dodge ram van',\n",
       " 'chevrolet|c4500 duramax',\n",
       " 'ram|promaster chassis cab',\n",
       " 'dodge or ram|5500 hd chassis2012',\n",
       " 'dodge or ram|1',\n",
       " 'dodge or ram|5500 hd chassisqc',\n",
       " 'suzuki|boulevard c50t lehman tramp trike',\n",
       " 'ram|3500 mega cab',\n",
       " 'dodge or ram|5500 hd chassis2011',\n",
       " 'holiday rambler|endeavor-wheelchair accessible',\n",
       " 'holiday rambler|trip 32pbs',\n",
       " 'forest river - haulin|7x12 enclosed cargo trailer ramp',\n",
       " 'ram|3500 hd dump truck 4x4',\n",
       " 'chevrolet|3500 diesel duramax dompeur',\n",
       " 'dodge|ram 550',\n",
       " 'dodge or ram|ram 3500',\n",
       " 'dodge or ram|5500 hd chassis2008',\n",
       " 'apache|ramada',\n",
       " 'holiday rambler|imperial bali iv',\n",
       " 'holiday rambler|admiral',\n",
       " 'ram|1500 quad cab',\n",
       " 'dodge|ram 1500 st quad cab swb 4wd',\n",
       " 'dodge|ram 1500 trx off road',\n",
       " 'pleasure-way|dodge ram horizon',\n",
       " 'dodge|ram+srt-10',\n",
       " 'dodge ram 350|roadtrek 190 versatile',\n",
       " 'holiday rambler|ambassador',\n",
       " 'ram|2500 crew cab',\n",
       " 'aliner|scout a-frame pop up camper',\n",
       " 'dodge or ram|colt',\n",
       " 'dodge or ram|mayfair',\n",
       " 'dodge|ram 1500 trx4',\n",
       " 'dodge|ram 5500 pickup',\n",
       " 'dodge|ram+van',\n",
       " 'loading ramps|loading ramps',\n",
       " 'oldsmobile|futuramic',\n",
       " 'dodge or ram|mirada',\n",
       " 'ram|2500 regular cab',\n",
       " 'dodge|ram 2500 4x4 diesel',\n",
       " 'dodge or ram|dynasty',\n",
       " 'dodge|ram daytona 1500',\n",
       " 'holiday rambler|aluma lite 207qb',\n",
       " 'ram|ram 1500 pickup',\n",
       " 'holiday rambler|arista',\n",
       " 'holiday rambler|ambassador 36pbd',\n",
       " 'ferrari|superamerica',\n",
       " 'dodge|ram 3500 cummins turbo diesel',\n",
       " 'dodge|ram srt 10',\n",
       " 'dodge|ram 1500 slt quad cab swb 4wd',\n",
       " 'ideal cargo|remorque ideal cargo classic 7x14 ta2 rampe',\n",
       " 'ram|1',\n",
       " 'no ramp|u19',\n",
       " 'holiday rambler|admiral 30sfs',\n",
       " 'holiday rambler|imperial',\n",
       " 'holiday rambler|vacationer 36sbt',\n",
       " 'dodge or ram|3500 pickup',\n",
       " 'holiday rambler|40skt next level toy hauler',\n",
       " 'nash|rambler',\n",
       " 'thor motor coach|miramar',\n",
       " 'holiday rambler|aluma-lite 29cf',\n",
       " 'holiday rambler|endeavour',\n",
       " 'ram|1500 r.cab',\n",
       " 'ram|new 2500',\n",
       " 'dodge|ram 50 pickup',\n",
       " 'dodge|ram 1500 leatherinterior sunroof sport pac',\n",
       " 'dodge|ram 2500 cab-chassis',\n",
       " 'dodge|ram 2500 dompeur',\n",
       " 'dodge|ram 3500 1 ton dually 4x4',\n",
       " 'a m c|rambler',\n",
       " 'holiday rambler|augusta sport 210',\n",
       " 'holiday rambler|neptune 34 pdd',\n",
       " 'gmc|5500 duramax',\n",
       " 'dodge|ram 3500 flatbed truck k0118-07',\n",
       " 'dodge|ram 2500 campwagon',\n",
       " 'dodge|ram 2500 cummins crewcab diesel 4x4',\n",
       " 'dodge|ram 350',\n",
       " 'dodge|ram camper',\n",
       " 'dodge or ram|3/4 ton trucks',\n",
       " 'frame kawasaki|kfx700',\n",
       " 'dodge or ram|5500 hd chassis2017',\n",
       " 'dodge or ram|5500 hd chassis2016',\n",
       " 'dodge or ram|5500 hd chassis2009',\n",
       " 'bertram|flybridge  cruiser',\n",
       " 'ram|3500 laramie longhorn',\n",
       " 'thor+motor+coach|miramar+34.2',\n",
       " 'enduramax by gulf stream|27rth toy hauler',\n",
       " 'dodge or ram|5500 hd chassis2018',\n",
       " 'dodge or ram|5500 hd chassis2014',\n",
       " 'gmc|3500 duramax diesel',\n",
       " 'GMC|duramax',\n",
       " 'thor motor coach|miramar 35.2',\n",
       " 'holiday+rambler|ambassador',\n",
       " 'gulf stream|enduramax. toy hauler',\n",
       " 'holiday rambler|admiral 32h',\n",
       " 'holiday rambler|augusta  235',\n",
       " 'holiday rambler|augusta 293ts',\n",
       " 'bsa|b50 scrambler collection',\n",
       " 'haulmark|-6x12 cargo trailers (ramp)',\n",
       " 'american+motors+(amc)|rambler',\n",
       " 'dodge|ram 3500 mega cab',\n",
       " 'dodge|ram srt-10 viper truck',\n",
       " 'dodge|ram 5500 slt heavy duty crew cab 4x4 dually',\n",
       " 'dodge|ram camper van',\n",
       " 'dodge|ram 150',\n",
       " 'ram|promaster+city',\n",
       " 'dodge|ram van 150',\n",
       " 'audi|a3 2.0t toit panoramique',\n",
       " \"sled parts|4' sled ez-up ramp\",\n",
       " 'mirage|mxl8.524ta3 cargo trailer with ramp door',\n",
       " 'tramac|125',\n",
       " 'triumph|scrambler',\n",
       " 'holiday rambler|236bhs alumalite',\n",
       " 'holiday rambler|admiral 30pdd',\n",
       " 'holiday+rambler|endeavor',\n",
       " 'holiday rambler|neptune 36 pdq',\n",
       " 'holiday rambler|endeavor 38pst',\n",
       " 'thor motor coach|miramar 34.3',\n",
       " 'hymer|aktiv+2.0+ram+promaster+3500',\n",
       " 'ram|3500 regular cab',\n",
       " 'ram|new 3500',\n",
       " 'ramp master|triple snowmobile trailer',\n",
       " 'dodge|ram van 2500',\n",
       " 'dodge|ram 1500 sport reg cab 4wd',\n",
       " 'laroche|gat 4 x 8 galvanise, rampe remorque utilitaire',\n",
       " 'ram|ram+c-v',\n",
       " 'ram|ram promaster cargo van',\n",
       " 'dodge ram350|pleasure way van',\n",
       " 'dodge+or+ram|1500',\n",
       " 'dodge|ram 1500 5.7l hemi',\n",
       " 'dodge|ram 1500 crew cab 5.7 hemi 4x4',\n",
       " 'maxi-roule|low66123tg surbaisse, rampe remorque utilitaire',\n",
       " 'john deere|x500 tracteur a gazon ramasse herbe',\n",
       " 'hymer|aktiv ram promaster 2500',\n",
       " 'hymer|aktiv+ram+promaster+2500',\n",
       " 'ram|1500 st',\n",
       " 'load trail|gooseneck dump w-8&quot; i-beam frame 14,000 lb!',\n",
       " 'ram|promaster fourgonnette utilitaire',\n",
       " 'ram|ram 1500 reg cab 4x4',\n",
       " 'ram|promaster+city+wagon',\n",
       " 'ram|promaster+2500',\n",
       " 'fleetwood folding trlrs.|coleman laramie',\n",
       " 'ram|frontier',\n",
       " 'grampian marine ltd|34 center cockpit ketch',\n",
       " 'grampian|lht',\n",
       " 'dodge|ram+3500',\n",
       " 'dodge|ramcl',\n",
       " 'dodge or ram|camaro',\n",
       " 'dodge|ram 1500 2wd double cab',\n",
       " 'dodge|ram 2500 4x4 cummins diesel',\n",
       " 'dodge or ram|1 ton trucks',\n",
       " 'dodge or ram|5500 hd chassis2010',\n",
       " 'dodge or ram|5500 hd chassis2013',\n",
       " 'dodge or ram|5500 hd chassis2005',\n",
       " 'pleasure-way|b250 ram',\n",
       " 'duramach|diesel',\n",
       " 'ducati|scrambler cafe racer',\n",
       " 'dynamax|ram promaster 24tb',\n",
       " 'bmw|r+ninet+scrambler',\n",
       " 'holiday+rambler|vacationer+xl+340hp+cummins+classe+a',\n",
       " 'holiday|rambler vacationer xl 34sbd',\n",
       " 'holiday rambler|neptune 36pdq',\n",
       " 'holiday rambler|admiral 34sbd',\n",
       " 'holiday rambler|\"34 cg|vacationer\"',\n",
       " 'holiday rambler|36sbt vacationer',\n",
       " 'holiday rambler|augusta 252ds',\n",
       " 'haulmark|2015 haulmark 6x10 v-nose cargo trailer w. ramp',\n",
       " 'holiday rambler|admiral 37pct',\n",
       " 'holiday rambler|drw',\n",
       " 'holiday rambler|aluma-lite 31sf3',\n",
       " \"lightning|5'+x+10'+v-nose+1+essieux+rampe\",\n",
       " 'suzuki|boulevard c50 lehman tramp trike',\n",
       " 'ram|5500 slt',\n",
       " 'ram|rav4',\n",
       " 'ram|ram 2500 pickup',\n",
       " 'ram|gt-r',\n",
       " 'ram|3500 pickup',\n",
       " 'ram|3/4 ton pickups',\n",
       " 'ram|1500 hemi crew!!!',\n",
       " 'ram|1500 big horn crew cab 4x4',\n",
       " 'ram|1/2 ton trucks',\n",
       " 'rammax|sheepsfoot+packer',\n",
       " 'ram c|v',\n",
       " 'polaris|scrambler 850 xtreme performance',\n",
       " 'roadtrek|simplicity srt ram promaster 2500',\n",
       " 'roadtrek|simplicity+srt+ram+promaster+2500',\n",
       " 'rockwood|a122 a-frame',\n",
       " 'rockwood|a128 a-frame',\n",
       " 'rockwood|214hw+aframe',\n",
       " 'bmw|r ninet scrambler',\n",
       " 'bmw|x1 cuir toit panoramique xdrive',\n",
       " 'holiday rambler|130 se',\n",
       " 'holiday rambler|23rb aluma lite',\n",
       " 'holiday rambler|admiral 29m',\n",
       " 'homemade|rig ramp - 11x30 ft',\n",
       " 'holiday rambler|admiral 33sfs',\n",
       " 'holiday|rambler neptune 40pbq',\n",
       " 'holiday+rambler|vesta',\n",
       " 'holiday+rambler|neptune',\n",
       " 'holiday+rambler|endeavour+40paq',\n",
       " 'holiday rambler|alumalite',\n",
       " 'holiday rambler|alumascape',\n",
       " 'holiday rambler|arista  300',\n",
       " 'holiday rambler|arista 300',\n",
       " 'holiday rambler|vacationer',\n",
       " 'holiday rambler|vacationer 36sb',\n",
       " 'holiday+rambler|aluma-lite+29cf',\n",
       " 'gmc|t7500 duramax, allison automatic,hydraulic brakes',\n",
       " 'Chevrolet|c4500 duramax',\n",
       " 'cjay|8x16 v-nose cargo trailer with rear ramp door',\n",
       " 'triumph|street scrambler',\n",
       " 'triumph|scrambler 900 cassidy',\n",
       " 'triumph|scrambler 900',\n",
       " 'tree farmer|c6d longframe',\n",
       " \"ford|f450 w-16' box & ramp\",\n",
       " 'ducati|scrambler+mach+2.0',\n",
       " 'e-z hauler|ezec714ta2 silver, v-nose, rampe remorque fermee',\n",
       " 'ford|e-350 cube van diesel  16 ft  ramp',\n",
       " 'enduramax sport|27rth toy hauler',\n",
       " 'dodge or ram|5500 hd chassis2015',\n",
       " 'dodge or ram|cobalt',\n",
       " 'dodge or ram|charge',\n",
       " 'dodge or ram|150a1w0e0',\n",
       " 'dodge or ram|1 ton chassis-cabs',\n",
       " 'dodge - okanagan|ram camper van',\n",
       " 'dodge or ram|250 pickup',\n",
       " 'dodge or ram|488 spider',\n",
       " 'dodge or ram|sprint',\n",
       " 'dodge ram|2500',\n",
       " 'dodge or ram|frontier',\n",
       " 'dodge or ram|meuble domon ',\n",
       " 'dodge or ram|f-150',\n",
       " 'dodge or ram|grand voyager',\n",
       " 'dodge|ram 5500 hd',\n",
       " 'dodge|ram 5500 17ft 6.7l diesel',\n",
       " 'dodge|ram pleasure way',\n",
       " 'dodge|ram trx 4x4',\n",
       " 'dodge|ram 2500  hd',\n",
       " 'dodge|ram-5500,ram 4500,ram3500,c-5500, gmc c-5500,c5500',\n",
       " 'dodge|b350 ram',\n",
       " 'dodge|laramie 4x4',\n",
       " 'chalet|a-frame',\n",
       " 'chevrolet|c5500 diesel duramax bas milage',\n",
       " 'thor motor coach|miramar 34.2',\n",
       " 'thor+motor+coach|miramar',\n",
       " 'royal cargo|\"6x12 lt | tandem | ramp door | black -tax incl-\"',\n",
       " 'Ram|3500 laramie longhorn',\n",
       " 'weberlane|ec650 with ramp',\n",
       " 'thor motor coach|miramar 32.2',\n",
       " 'suzuki|volusia limited edition lehman tramp trike',\n",
       " 'amc|rambler',\n",
       " 'amera-lite|attx610sa+ramp+door',\n",
       " 'roadtrek|zion srt ram promaster 3500 extended van',\n",
       " 'trailmobile|drop-frame van',\n",
       " 'agassiz|7x14 ramp door',\n",
       " 'continental+cargo|6x10+rambler',\n",
       " 'continental cargo|7x14 rambler',\n",
       " 'cjay trailers|cj 7x16 v-nose cargo trailer with rear ramp door',\n",
       " 'hymer|aktiv 2.0 ram promaster 3500',\n",
       " 'holiday rambler|alumilite',\n",
       " 'holiday rambler|34sbd',\n",
       " 'holiday rambler|187qb',\n",
       " 'holiday rambler|savoy le',\n",
       " 'holiday rambler|atlantis',\n",
       " 'holiday rambler|neptune',\n",
       " 'holiday rambler|navigator',\n",
       " 'holiday rambler|imperial 42 plq',\n",
       " 'holiday rambler|holiday rambler',\n",
       " 'holiday rambler|ford e450 augusta',\n",
       " 'holiday rambler|endeavor 40 qsk',\n",
       " 'holiday rambler|endeavor 38 wds',\n",
       " 'holiday rambler|augusta sport 25pcs',\n",
       " 'holiday rambler|augusta m-213 (class c)',\n",
       " 'holiday rambler|atlantis se',\n",
       " 'holiday rambler|neptune 38pbd',\n",
       " 'holiday rambler|traveler 24rbh',\n",
       " 'holiday rambler|traveler 30qbh',\n",
       " 'holiday|rambler traveler',\n",
       " 'holiday|rambler savoy 28 rls',\n",
       " 'holiday+rambler|endeavour+38n',\n",
       " 'holiday+rambler|ambassador+se+38pdq',\n",
       " 'holiday+rambler|ambassador+pdq',\n",
       " 'holiday rambler|vacationer xl 38 plt',\n",
       " 'holiday rambler|trip',\n",
       " 'hino|338-271 26ft van w-level ride gate and ramp',\n",
       " 'hino|338-271 24ft, lift gate, ramp',\n",
       " 'hino|155-149, 18ft.van body, ramp, gps, touch screen',\n",
       " 'chevrolet|brampton',\n",
       " 'ideal cargo|\"7x14-80 remorque| rampe\"',\n",
       " 'hyundai|saused car vramptonnta fe',\n",
       " 'isuzu|nrr+20ft+5.2l+diesel+++ramp',\n",
       " 'duramax|Diesel',\n",
       " 'ducati|scrambler',\n",
       " 'ducati|scrambler desert sled',\n",
       " 'ducati|scrambler full throttle',\n",
       " 'ducati|scrambler sixty2',\n",
       " 'ducati|scrambler urban enduro',\n",
       " 'ducati|scrambler urban enduro wild green',\n",
       " 'ducati|scrambler+desert+sled',\n",
       " 'dodge|ram truckn',\n",
       " 'dodge|ram van 1500',\n",
       " 'dodge|ram b 250',\n",
       " 'dodge|ram wagon',\n",
       " 'dodge|ram+5500',\n",
       " 'dodge|ram 5500 slt 4x4, picker truck',\n",
       " 'dodge|ram 1500 mega cab',\n",
       " 'dodge|ram 1500 sport quad cab swb 4wd',\n",
       " 'dodge|ram 150niagara detetion center0 pickup',\n",
       " 'dodge|ram 350 custom',\n",
       " 'dodge|ram 3500 (1 ton) dually',\n",
       " 'dodge|ram 3500 roadtrek 190',\n",
       " 'dodge|ram 3500 4wd quad cab lwb drw',\n",
       " 'dodge|ram 3500 heavy duty crew cab 4x4 dually',\n",
       " 'dokijijige or ram|ram',\n",
       " 'e-z hauler|ezec828ta3 blanc, v-nose, rampe, torsion, car h',\n",
       " 'great west|dodge ram',\n",
       " 'gmc|duramax+with+2011+camper',\n",
       " 'gulf stream|enduramax 3912',\n",
       " 'gulf stream|enduramax 31 mfw',\n",
       " 'gulfstream|caravanne a sellette garage enduramax 30 mfw (redu',\n",
       " 'dodge|caravan ram cargo',\n",
       " 'dodge|b150 ram',\n",
       " 'dodge pofor ram|ram 1500 pickup',\n",
       " 'dodge ram|350 dually diesel',\n",
       " 'dodge%20or%20ram|caravan%20c%2fv',\n",
       " 'dodge or ram|pacifica',\n",
       " 'dodge or ram|town & country',\n",
       " 'dodge or ram|v10',\n",
       " 'dodge or ram|wrangler',\n",
       " 'dodge|ram 1500 crew cab laramie',\n",
       " 'dodge|ram 1500 laramie crew cab 4x4',\n",
       " 'dodge|ram 1500 4wd mega cab',\n",
       " 'frame chassis skidoo|mach1 machz ck3 f3 $699.99 nã©gociable',\n",
       " 'gmc|c5500 duramax',\n",
       " 'gmc|4500 duramax diesel',\n",
       " 'dodge or ram|cherokee',\n",
       " 'dodge or ram|chevy van',\n",
       " 'dodge or ram|cobra',\n",
       " 'dodge or ram|cordoba',\n",
       " 'dodge or ram|discovery',\n",
       " 'dodge or ram|bronco',\n",
       " 'dodge or ram|astro',\n",
       " 'dodge or ram|biscayne',\n",
       " 'dodge or ram|excursion',\n",
       " 'dodge or ram|ghostery',\n",
       " 'dodge or ram|google.ca+1500',\n",
       " 'gator|remorque low boy 7000 rs avec rangement des rampes',\n",
       " 'dodge or ram|f-350',\n",
       " 'dodge or ram|f360',\n",
       " 'dodge or ram|fiesta',\n",
       " 'dodge or ram|5500 hd chassis2007',\n",
       " 'dodge or ram|1/2 ton(please delete)',\n",
       " 'dodge or ram|1600',\n",
       " 'doautdge or ram|grand caravan',\n",
       " 'dodge or ram|200',\n",
       " 'dodge or ram|5500 hd chassis2006',\n",
       " 'dodge or ram|4wd compact pickups',\n",
       " 'dodge or ram|4wd pickups',\n",
       " 'dodge or ram|411',\n",
       " 'dodge or ram|3/4 ton pickups',\n",
       " 'dodge or ram|3hunt chryster500',\n",
       " 'bertram yachts|bertram 46.6',\n",
       " 'bergen|atv mini rack ramp trailer',\n",
       " 'on|brampton',\n",
       " 'mission trailers|mes101x14dl bleu, 2 rampes, torsion remorque po',\n",
       " 'mitsubishi fuso|fe180 22.5ft box   ramp',\n",
       " 'merlo|panoramic 80.9 hm',\n",
       " 'ram|370z',\n",
       " 'ram|3502012',\n",
       " 'ram|3500dually',\n",
       " 'ram|3500 cummins diesel',\n",
       " 'ram|3/4 ton chassis-cabs',\n",
       " 'ram|2500 pickup',\n",
       " 'ram|2500 limited 8 ft box',\n",
       " 'ram|2500 hd chassis-cabs',\n",
       " 'ram|2500 cummins diesel',\n",
       " 'ram|2500 2018',\n",
       " 'ram|2014 ram laramie longhorn',\n",
       " 'ram|5500 4x4, service truck',\n",
       " 'ram|5500 crew cab diesel service box',\n",
       " 'ram|ghostery',\n",
       " 'ram|f-type r',\n",
       " 'ram|compass',\n",
       " 'ram|cargo with roof rack',\n",
       " 'ram|altima',\n",
       " 'ram|all new 1500',\n",
       " 'ram|911',\n",
       " 'ram|1500 laram',\n",
       " 'ram sport|1500',\n",
       " 'ram|1500 classic express',\n",
       " 'ram|1500 black express quad cab 4x4',\n",
       " 'ram|1500 4rm cabine quad',\n",
       " 'ram|1/2 ton(please delete)',\n",
       " 'ram|1 ton trucks',\n",
       " 'ramrod|s23 rammer',\n",
       " 'ramrod|drill',\n",
       " 'ramrod|915',\n",
       " 'rambler|rm610sa',\n",
       " 'ram|promaster ckijijiity',\n",
       " 'ram|promaster+1500',\n",
       " 'ram|promaster+3500',\n",
       " 'rc trailer|6x10 ramp door',\n",
       " 'ram|r8',\n",
       " 'ram|sport',\n",
       " 'ram|rs 4',\n",
       " 'ram|rio5',\n",
       " 'ram|rio',\n",
       " 'ram|ridgeline',\n",
       " 'ram|renegade',\n",
       " 'ram|ranger',\n",
       " 'ram|range rover sport',\n",
       " 'ram|ram c-vdodge',\n",
       " 'ram|ram 3500 pickup',\n",
       " 'ram|ram 2500 mega cab 4x4',\n",
       " 'ram|ram',\n",
       " 'range rover on|brampton',\n",
       " 'pleasure-way|dodge ram 3,500',\n",
       " 'pilgram|cirrus 26crl-5',\n",
       " 'polaris|scrambler 850',\n",
       " 'plymouth|ram 1500 pickup',\n",
       " 'polaris|rampe de chargement caliber pro',\n",
       " 'land rover|range rover evoque + cuir + toit panoramique',\n",
       " 'cargo mate|bl712ta2 noir, v-nose, rampe, escape door, usagã\\x83â£ã\\x86â\\x80\\x99ã\\x83â¢ã\\x82â©',\n",
       " 'cargo express|7x14x78 pro ramp',\n",
       " 'kenworth|t800 tri-drive with double frame',\n",
       " 'bws|35ton stepdeck air ramp equipment trailer',\n",
       " 'bombardier|frame skidoo ck3 mach1 $599.99 faie offre',\n",
       " 'maxi-roule|gal72144d rampe remorque utilitaire']"
      ]
     },
     "execution_count": 32,
     "metadata": {},
     "output_type": "execute_result"
    }
   ],
   "source": [
    "df1 = df['make_model'].str.contains(\"PG\") "
   ]
  },
  {
   "cell_type": "code",
   "execution_count": 9,
   "metadata": {},
   "outputs": [
    {
     "ename": "KeyError",
     "evalue": "('yearMonth', 'region', 'dimension59', 'dimension60', 'metri1')",
     "output_type": "error",
     "traceback": [
      "\u001b[1;31m---------------------------------------------------------------------------\u001b[0m",
      "\u001b[1;31mKeyError\u001b[0m                                  Traceback (most recent call last)",
      "\u001b[1;32m~\\AppData\\Local\\Continuum\\anaconda3\\lib\\site-packages\\pandas\\core\\indexes\\base.py\u001b[0m in \u001b[0;36mget_loc\u001b[1;34m(self, key, method, tolerance)\u001b[0m\n\u001b[0;32m   2896\u001b[0m             \u001b[1;32mtry\u001b[0m\u001b[1;33m:\u001b[0m\u001b[1;33m\u001b[0m\u001b[1;33m\u001b[0m\u001b[0m\n\u001b[1;32m-> 2897\u001b[1;33m                 \u001b[1;32mreturn\u001b[0m \u001b[0mself\u001b[0m\u001b[1;33m.\u001b[0m\u001b[0m_engine\u001b[0m\u001b[1;33m.\u001b[0m\u001b[0mget_loc\u001b[0m\u001b[1;33m(\u001b[0m\u001b[0mkey\u001b[0m\u001b[1;33m)\u001b[0m\u001b[1;33m\u001b[0m\u001b[1;33m\u001b[0m\u001b[0m\n\u001b[0m\u001b[0;32m   2898\u001b[0m             \u001b[1;32mexcept\u001b[0m \u001b[0mKeyError\u001b[0m\u001b[1;33m:\u001b[0m\u001b[1;33m\u001b[0m\u001b[1;33m\u001b[0m\u001b[0m\n",
      "\u001b[1;32mpandas\\_libs\\index.pyx\u001b[0m in \u001b[0;36mpandas._libs.index.IndexEngine.get_loc\u001b[1;34m()\u001b[0m\n",
      "\u001b[1;32mpandas\\_libs\\index.pyx\u001b[0m in \u001b[0;36mpandas._libs.index.IndexEngine.get_loc\u001b[1;34m()\u001b[0m\n",
      "\u001b[1;32mpandas\\_libs\\hashtable_class_helper.pxi\u001b[0m in \u001b[0;36mpandas._libs.hashtable.PyObjectHashTable.get_item\u001b[1;34m()\u001b[0m\n",
      "\u001b[1;32mpandas\\_libs\\hashtable_class_helper.pxi\u001b[0m in \u001b[0;36mpandas._libs.hashtable.PyObjectHashTable.get_item\u001b[1;34m()\u001b[0m\n",
      "\u001b[1;31mKeyError\u001b[0m: ('yearMonth', 'region', 'dimension59', 'dimension60', 'metri1')",
      "\nDuring handling of the above exception, another exception occurred:\n",
      "\u001b[1;31mKeyError\u001b[0m                                  Traceback (most recent call last)",
      "\u001b[1;32m<ipython-input-9-96280bcb56b6>\u001b[0m in \u001b[0;36m<module>\u001b[1;34m\u001b[0m\n\u001b[0;32m      1\u001b[0m \u001b[0mdf\u001b[0m\u001b[1;33m.\u001b[0m\u001b[0mhead\u001b[0m\u001b[1;33m(\u001b[0m\u001b[1;36m5\u001b[0m\u001b[1;33m)\u001b[0m\u001b[1;33m\u001b[0m\u001b[1;33m\u001b[0m\u001b[0m\n\u001b[0;32m      2\u001b[0m \u001b[1;33m\u001b[0m\u001b[0m\n\u001b[1;32m----> 3\u001b[1;33m \u001b[0mdf_top_searched\u001b[0m \u001b[1;33m=\u001b[0m \u001b[0mdf\u001b[0m\u001b[1;33m[\u001b[0m\u001b[1;33m[\u001b[0m\u001b[0mdf\u001b[0m\u001b[1;33m[\u001b[0m\u001b[1;34m'yearMonth'\u001b[0m\u001b[1;33m,\u001b[0m\u001b[1;34m'region'\u001b[0m\u001b[1;33m,\u001b[0m\u001b[1;34m'dimension59'\u001b[0m\u001b[1;33m,\u001b[0m\u001b[1;34m'dimension60'\u001b[0m\u001b[1;33m,\u001b[0m\u001b[1;34m'metri1'\u001b[0m\u001b[1;33m]\u001b[0m\u001b[1;33m]\u001b[0m\u001b[1;33m]\u001b[0m\u001b[1;33m\u001b[0m\u001b[1;33m\u001b[0m\u001b[0m\n\u001b[0m\u001b[0;32m      4\u001b[0m \u001b[1;33m\u001b[0m\u001b[0m\n\u001b[0;32m      5\u001b[0m \u001b[1;31m# # there are some entires with capitalized SearchMake and some in all lowercase, standardize the entries\u001b[0m\u001b[1;33m\u001b[0m\u001b[1;33m\u001b[0m\u001b[1;33m\u001b[0m\u001b[0m\n",
      "\u001b[1;32m~\\AppData\\Local\\Continuum\\anaconda3\\lib\\site-packages\\pandas\\core\\frame.py\u001b[0m in \u001b[0;36m__getitem__\u001b[1;34m(self, key)\u001b[0m\n\u001b[0;32m   2993\u001b[0m             \u001b[1;32mif\u001b[0m \u001b[0mself\u001b[0m\u001b[1;33m.\u001b[0m\u001b[0mcolumns\u001b[0m\u001b[1;33m.\u001b[0m\u001b[0mnlevels\u001b[0m \u001b[1;33m>\u001b[0m \u001b[1;36m1\u001b[0m\u001b[1;33m:\u001b[0m\u001b[1;33m\u001b[0m\u001b[1;33m\u001b[0m\u001b[0m\n\u001b[0;32m   2994\u001b[0m                 \u001b[1;32mreturn\u001b[0m \u001b[0mself\u001b[0m\u001b[1;33m.\u001b[0m\u001b[0m_getitem_multilevel\u001b[0m\u001b[1;33m(\u001b[0m\u001b[0mkey\u001b[0m\u001b[1;33m)\u001b[0m\u001b[1;33m\u001b[0m\u001b[1;33m\u001b[0m\u001b[0m\n\u001b[1;32m-> 2995\u001b[1;33m             \u001b[0mindexer\u001b[0m \u001b[1;33m=\u001b[0m \u001b[0mself\u001b[0m\u001b[1;33m.\u001b[0m\u001b[0mcolumns\u001b[0m\u001b[1;33m.\u001b[0m\u001b[0mget_loc\u001b[0m\u001b[1;33m(\u001b[0m\u001b[0mkey\u001b[0m\u001b[1;33m)\u001b[0m\u001b[1;33m\u001b[0m\u001b[1;33m\u001b[0m\u001b[0m\n\u001b[0m\u001b[0;32m   2996\u001b[0m             \u001b[1;32mif\u001b[0m \u001b[0mis_integer\u001b[0m\u001b[1;33m(\u001b[0m\u001b[0mindexer\u001b[0m\u001b[1;33m)\u001b[0m\u001b[1;33m:\u001b[0m\u001b[1;33m\u001b[0m\u001b[1;33m\u001b[0m\u001b[0m\n\u001b[0;32m   2997\u001b[0m                 \u001b[0mindexer\u001b[0m \u001b[1;33m=\u001b[0m \u001b[1;33m[\u001b[0m\u001b[0mindexer\u001b[0m\u001b[1;33m]\u001b[0m\u001b[1;33m\u001b[0m\u001b[1;33m\u001b[0m\u001b[0m\n",
      "\u001b[1;32m~\\AppData\\Local\\Continuum\\anaconda3\\lib\\site-packages\\pandas\\core\\indexes\\base.py\u001b[0m in \u001b[0;36mget_loc\u001b[1;34m(self, key, method, tolerance)\u001b[0m\n\u001b[0;32m   2897\u001b[0m                 \u001b[1;32mreturn\u001b[0m \u001b[0mself\u001b[0m\u001b[1;33m.\u001b[0m\u001b[0m_engine\u001b[0m\u001b[1;33m.\u001b[0m\u001b[0mget_loc\u001b[0m\u001b[1;33m(\u001b[0m\u001b[0mkey\u001b[0m\u001b[1;33m)\u001b[0m\u001b[1;33m\u001b[0m\u001b[1;33m\u001b[0m\u001b[0m\n\u001b[0;32m   2898\u001b[0m             \u001b[1;32mexcept\u001b[0m \u001b[0mKeyError\u001b[0m\u001b[1;33m:\u001b[0m\u001b[1;33m\u001b[0m\u001b[1;33m\u001b[0m\u001b[0m\n\u001b[1;32m-> 2899\u001b[1;33m                 \u001b[1;32mreturn\u001b[0m \u001b[0mself\u001b[0m\u001b[1;33m.\u001b[0m\u001b[0m_engine\u001b[0m\u001b[1;33m.\u001b[0m\u001b[0mget_loc\u001b[0m\u001b[1;33m(\u001b[0m\u001b[0mself\u001b[0m\u001b[1;33m.\u001b[0m\u001b[0m_maybe_cast_indexer\u001b[0m\u001b[1;33m(\u001b[0m\u001b[0mkey\u001b[0m\u001b[1;33m)\u001b[0m\u001b[1;33m)\u001b[0m\u001b[1;33m\u001b[0m\u001b[1;33m\u001b[0m\u001b[0m\n\u001b[0m\u001b[0;32m   2900\u001b[0m         \u001b[0mindexer\u001b[0m \u001b[1;33m=\u001b[0m \u001b[0mself\u001b[0m\u001b[1;33m.\u001b[0m\u001b[0mget_indexer\u001b[0m\u001b[1;33m(\u001b[0m\u001b[1;33m[\u001b[0m\u001b[0mkey\u001b[0m\u001b[1;33m]\u001b[0m\u001b[1;33m,\u001b[0m \u001b[0mmethod\u001b[0m\u001b[1;33m=\u001b[0m\u001b[0mmethod\u001b[0m\u001b[1;33m,\u001b[0m \u001b[0mtolerance\u001b[0m\u001b[1;33m=\u001b[0m\u001b[0mtolerance\u001b[0m\u001b[1;33m)\u001b[0m\u001b[1;33m\u001b[0m\u001b[1;33m\u001b[0m\u001b[0m\n\u001b[0;32m   2901\u001b[0m         \u001b[1;32mif\u001b[0m \u001b[0mindexer\u001b[0m\u001b[1;33m.\u001b[0m\u001b[0mndim\u001b[0m \u001b[1;33m>\u001b[0m \u001b[1;36m1\u001b[0m \u001b[1;32mor\u001b[0m \u001b[0mindexer\u001b[0m\u001b[1;33m.\u001b[0m\u001b[0msize\u001b[0m \u001b[1;33m>\u001b[0m \u001b[1;36m1\u001b[0m\u001b[1;33m:\u001b[0m\u001b[1;33m\u001b[0m\u001b[1;33m\u001b[0m\u001b[0m\n",
      "\u001b[1;32mpandas\\_libs\\index.pyx\u001b[0m in \u001b[0;36mpandas._libs.index.IndexEngine.get_loc\u001b[1;34m()\u001b[0m\n",
      "\u001b[1;32mpandas\\_libs\\index.pyx\u001b[0m in \u001b[0;36mpandas._libs.index.IndexEngine.get_loc\u001b[1;34m()\u001b[0m\n",
      "\u001b[1;32mpandas\\_libs\\hashtable_class_helper.pxi\u001b[0m in \u001b[0;36mpandas._libs.hashtable.PyObjectHashTable.get_item\u001b[1;34m()\u001b[0m\n",
      "\u001b[1;32mpandas\\_libs\\hashtable_class_helper.pxi\u001b[0m in \u001b[0;36mpandas._libs.hashtable.PyObjectHashTable.get_item\u001b[1;34m()\u001b[0m\n",
      "\u001b[1;31mKeyError\u001b[0m: ('yearMonth', 'region', 'dimension59', 'dimension60', 'metri1')"
     ]
    }
   ],
   "source": [
    "df.head(5)\n",
    "\n",
    "df_top_searched = df[[df['yearMonth','region','dimension59','dimension60','metri1']]]\n",
    "\n",
    "# # there are some entires with capitalized SearchMake and some in all lowercase, standardize the entries\n",
    "# df['SearchMake'] = df['SearchMake'].str.lower()\n",
    "# df['SearchModel'] = df['SearchModel'].str.lower()\n",
    "\n",
    "# # after standardizing the format, unify the entires\n",
    "# df=df.groupby(['SearchMake','SearchModel','Region','SearchCity']).agg({\"Total_Searches\":'sum'}).reset_index()\n",
    "# df.shape"
   ]
  },
  {
   "cell_type": "code",
   "execution_count": 4,
   "metadata": {},
   "outputs": [
    {
     "data": {
      "text/plain": [
       "(1919626, 5)"
      ]
     },
     "execution_count": 4,
     "metadata": {},
     "output_type": "execute_result"
    }
   ],
   "source": [
    "# Get rid of dirty data - SearchMake or SearchModel with multiple sections \"|\"\n",
    "\n",
    "df_work = df[(~df.SearchMake.str.contains(\"\\|\",regex=True,na=False))|(~df.SearchModel.str.contains(\"\\|\",regex=True,na=False))].reset_index(drop=True)\n",
    "df_work.shape"
   ]
  },
  {
   "cell_type": "code",
   "execution_count": 5,
   "metadata": {},
   "outputs": [
    {
     "data": {
      "text/plain": [
       "(1398659, 5)"
      ]
     },
     "execution_count": 5,
     "metadata": {},
     "output_type": "execute_result"
    }
   ],
   "source": [
    "#\n",
    "\n",
    "df_work = df_work[(df_work.SearchMake != 'not used') & (df_work.SearchModel != 'not used')&(df_work.SearchCity != '(not set)')]\n",
    "df_work.shape"
   ]
  },
  {
   "cell_type": "code",
   "execution_count": 6,
   "metadata": {},
   "outputs": [
    {
     "data": {
      "text/plain": [
       "(1398659, 5)"
      ]
     },
     "execution_count": 6,
     "metadata": {},
     "output_type": "execute_result"
    }
   ],
   "source": [
    "df_work = df_work.sort_values(by='Total_Searches',ascending=False).reset_index(drop=True)\n",
    "\n",
    "#longer version\n",
    "#df_work = df_work.sort_values(by='Total_Searches',ascending=False).reset_index(index=)\n",
    "#df_work.drop('index',axis=1,inplace=True)\n",
    "\n",
    "df_work.shape"
   ]
  },
  {
   "cell_type": "code",
   "execution_count": 7,
   "metadata": {},
   "outputs": [
    {
     "data": {
      "text/plain": [
       "['New Brunswick', 'West New Britain Province']"
      ]
     },
     "execution_count": 7,
     "metadata": {},
     "output_type": "execute_result"
    }
   ],
   "source": [
    "# code to look for provinces from the list\n",
    "list_of_region = df.Region.unique().tolist()\n",
    "[x for x in list_of_region if 'New B' in x]"
   ]
  },
  {
   "cell_type": "code",
   "execution_count": 8,
   "metadata": {},
   "outputs": [],
   "source": [
    "##### Useful code if you want to filter out non Canadian nor non American cities\n",
    "\n",
    "\n",
    "canada = ['British Columbia','Alberta','Saskatchewan','Manitoba','Ontario','Quebec','Newfoundland and Labrador',\n",
    "          'Nova Scotia','Prince Edward Island','New Brunswick','Nunavut','Northwest Territories','Yukon']\n",
    "\n",
    "#america = [\"Alabama\",\"Alaska\",\"Arizona\",\"Arkansas\",\"California\",\"Colorado\",\n",
    "#  \"Connecticut\",\"Delaware\",\"Florida\",\"Georgia\",\"Hawaii\",\"Idaho\",\"Illinois\",\n",
    "#  \"Indiana\",\"Iowa\",\"Kansas\",\"Kentucky\",\"Louisiana\",\"Maine\",\"Maryland\",\n",
    "#  \"Massachusetts\",\"Michigan\",\"Minnesota\",\"Mississippi\",\"Missouri\",\"Montana\",\n",
    "#  \"Nebraska\",\"Nevada\",\"New Hampshire\",\"New Jersey\",\"New Mexico\",\"New York\",\n",
    "#  \"North Carolina\",\"North Dakota\",\"Ohio\",\"Oklahoma\",\"Oregon\",\"Pennsylvania\",\n",
    "#  \"Rhode Island\",\"South Carolina\",\"South Dakota\",\"Tennessee\",\"Texas\",\"Utah\",\n",
    "#  \"Vermont\",\"Virginia\",\"Washington\",\"West Virginia\",\"Wisconsin\",\"Wyoming\"]\n",
    "\n",
    "#df_work = df[(df.Region.isin(canada))|(df.Region.isin(america))] #filter the list by Canadian provinces\n",
    "#df_work.shape"
   ]
  },
  {
   "cell_type": "code",
   "execution_count": 9,
   "metadata": {},
   "outputs": [],
   "source": [
    "#Group 'Maritimes' and Territories and American States into 'Other'\n",
    "Maritimes = ['Newfoundland and Labrador','Nova Scotia','Prince Edward Island','New Brunswick']\n",
    "Provinces = ['British Columbia','Alberta','Saskatchewan','Manitoba','Ontario','Quebec']"
   ]
  },
  {
   "cell_type": "code",
   "execution_count": 10,
   "metadata": {},
   "outputs": [],
   "source": [
    "df_work.loc[df_work.Region.isin(Maritimes),'Province'] = 'Maritimes' #Assign Maritimes\n",
    "df_work.loc[df_work.Region.isin(Provinces),'Province'] = df_work.Region\n",
    "df_work['Province'].fillna('Others', inplace=True) #If all else, assign \"Others\"\n",
    "\n",
    "### Alternative code based on if-else format\n",
    "#df['name_match'] = df['First_name'].apply(lambda x: 'Match' if x == 'Bill' else 'Mis-Match')\n",
    "\n",
    "#Try using .loc[row_indexer,col_indexer] = value instead\n",
    "#https://www.dataquest.io/blog/settingwithcopywarning/"
   ]
  },
  {
   "cell_type": "code",
   "execution_count": 11,
   "metadata": {},
   "outputs": [],
   "source": [
    "#Check to see if it's working\n",
    "\n",
    "#df_work[df_work.Province.notnull()]\n",
    "#df_work[df_work['Province'] == 'Alberta']\n",
    "#df_work[(df_work['Province']!='Others')&(df_work['Province']!='Maritimes')].head(100)"
   ]
  },
  {
   "cell_type": "code",
   "execution_count": 12,
   "metadata": {},
   "outputs": [
    {
     "data": {
      "text/plain": [
       "['Drayton Valley']"
      ]
     },
     "execution_count": 12,
     "metadata": {},
     "output_type": "execute_result"
    }
   ],
   "source": [
    "# code to look for provinces from the list\n",
    "list_of_city = df_work[df_work['Province']!='Others'].SearchCity.unique().tolist()\n",
    "[x for x in list_of_city if 'Drayton Valley' in x]"
   ]
  },
  {
   "cell_type": "code",
   "execution_count": 13,
   "metadata": {},
   "outputs": [
    {
     "data": {
      "text/plain": [
       "(1398659, 6)"
      ]
     },
     "execution_count": 13,
     "metadata": {},
     "output_type": "execute_result"
    }
   ],
   "source": [
    "df_work.shape"
   ]
  },
  {
   "cell_type": "code",
   "execution_count": 14,
   "metadata": {},
   "outputs": [],
   "source": [
    "###############################################################################"
   ]
  },
  {
   "cell_type": "code",
   "execution_count": 15,
   "metadata": {},
   "outputs": [
    {
     "data": {
      "text/html": [
       "<div>\n",
       "<style scoped>\n",
       "    .dataframe tbody tr th:only-of-type {\n",
       "        vertical-align: middle;\n",
       "    }\n",
       "\n",
       "    .dataframe tbody tr th {\n",
       "        vertical-align: top;\n",
       "    }\n",
       "\n",
       "    .dataframe thead th {\n",
       "        text-align: right;\n",
       "    }\n",
       "</style>\n",
       "<table border=\"1\" class=\"dataframe\">\n",
       "  <thead>\n",
       "    <tr style=\"text-align: right;\">\n",
       "      <th></th>\n",
       "      <th>Total_Searches</th>\n",
       "      <th>% of Total</th>\n",
       "    </tr>\n",
       "  </thead>\n",
       "  <tbody>\n",
       "    <tr>\n",
       "      <th>0</th>\n",
       "      <td>25393305.0</td>\n",
       "      <td>54.349163</td>\n",
       "    </tr>\n",
       "    <tr>\n",
       "      <th>1</th>\n",
       "      <td>8078830.0</td>\n",
       "      <td>17.291079</td>\n",
       "    </tr>\n",
       "    <tr>\n",
       "      <th>2</th>\n",
       "      <td>5494081.0</td>\n",
       "      <td>11.758954</td>\n",
       "    </tr>\n",
       "    <tr>\n",
       "      <th>3</th>\n",
       "      <td>4079673.0</td>\n",
       "      <td>8.731704</td>\n",
       "    </tr>\n",
       "    <tr>\n",
       "      <th>4</th>\n",
       "      <td>1485176.0</td>\n",
       "      <td>3.178715</td>\n",
       "    </tr>\n",
       "    <tr>\n",
       "      <th>5</th>\n",
       "      <td>918036.0</td>\n",
       "      <td>1.964868</td>\n",
       "    </tr>\n",
       "    <tr>\n",
       "      <th>6</th>\n",
       "      <td>711447.0</td>\n",
       "      <td>1.522706</td>\n",
       "    </tr>\n",
       "    <tr>\n",
       "      <th>7</th>\n",
       "      <td>561984.0</td>\n",
       "      <td>1.202812</td>\n",
       "    </tr>\n",
       "    <tr>\n",
       "      <th>Total</th>\n",
       "      <td>46722532.0</td>\n",
       "      <td>100.000000</td>\n",
       "    </tr>\n",
       "  </tbody>\n",
       "</table>\n",
       "</div>"
      ],
      "text/plain": [
       "       Total_Searches  % of Total\n",
       "0          25393305.0   54.349163\n",
       "1           8078830.0   17.291079\n",
       "2           5494081.0   11.758954\n",
       "3           4079673.0    8.731704\n",
       "4           1485176.0    3.178715\n",
       "5            918036.0    1.964868\n",
       "6            711447.0    1.522706\n",
       "7            561984.0    1.202812\n",
       "Total      46722532.0  100.000000"
      ]
     },
     "execution_count": 15,
     "metadata": {},
     "output_type": "execute_result"
    }
   ],
   "source": [
    "#del df_summary\n",
    "df_summary = df_work.groupby(\"Province\").agg({\"Total_Searches\":'sum'})\n",
    "df_summary= df_summary.sort_values(by='Total_Searches',ascending=False).reset_index(drop=True)\n",
    "\n",
    "df_summary['Province'] = df_work(\"Province\")\n",
    "df_summary['% of Total'] = (df_summary['Total_Searches']/ df_summary['Total_Searches'].sum()*100)\n",
    "df_summary.loc['Total',:] = df_summary.sum().values\n",
    "\n",
    "\n",
    "df_summary\n",
    "\n",
    "### Alternative\n",
    "#table['% of Total'] = (table.C / table.C.sum() * 100)\n",
    "#table['% of B'] = (table.C / table.groupby(level=0).C.transform(sum) * 100)\n",
    "#table.loc['total', :] = table.sum().values\n",
    "\n",
    "#https://stackoverflow.com/questions/37148787/pandas-pivot-table-percent-calculations"
   ]
  },
  {
   "cell_type": "code",
   "execution_count": 16,
   "metadata": {},
   "outputs": [],
   "source": [
    "canadian_cities = pd.read_csv('data_canadian_cities.csv')\n",
    "canadian_cities.drop('location',axis=1,inplace=True)\n",
    "\n",
    "canadian_cities.loc[canadian_cities['population']>= 200000,'Category'] = 'Metro'\n",
    "canadian_cities.loc[(canadian_cities['population']>=50000)&(canadian_cities['population']<200000),'Category'] = 'Mid'\n",
    "canadian_cities['Category'].fillna('Rural', inplace=True) #If all else, assign \"Rural\"\n",
    "\n",
    "\n",
    "#canadian_cities.loc[(canadian_cities['population']>=50000) and (canadian_cities['population']<200000),'Category'] = 'Mid'\n",
    "#canadian_cities['Category'].fillna('Rural', inplace=True) #If all else, assign \"Others\"\n",
    "\n",
    "#canadian_cities[canadian_cities['Category']=='Rural'].sort_values(by='population',ascending=False)"
   ]
  },
  {
   "cell_type": "code",
   "execution_count": 17,
   "metadata": {},
   "outputs": [
    {
     "data": {
      "text/html": [
       "<div>\n",
       "<style scoped>\n",
       "    .dataframe tbody tr th:only-of-type {\n",
       "        vertical-align: middle;\n",
       "    }\n",
       "\n",
       "    .dataframe tbody tr th {\n",
       "        vertical-align: top;\n",
       "    }\n",
       "\n",
       "    .dataframe thead th {\n",
       "        text-align: right;\n",
       "    }\n",
       "</style>\n",
       "<table border=\"1\" class=\"dataframe\">\n",
       "  <thead>\n",
       "    <tr style=\"text-align: right;\">\n",
       "      <th></th>\n",
       "      <th>asciiname</th>\n",
       "      <th>population</th>\n",
       "      <th>Category</th>\n",
       "    </tr>\n",
       "  </thead>\n",
       "  <tbody>\n",
       "    <tr>\n",
       "      <th>204</th>\n",
       "      <td>Sainte-Catherine</td>\n",
       "      <td>16762</td>\n",
       "      <td>Rural</td>\n",
       "    </tr>\n",
       "    <tr>\n",
       "      <th>210</th>\n",
       "      <td>Sainte-Catherine</td>\n",
       "      <td>16211</td>\n",
       "      <td>Rural</td>\n",
       "    </tr>\n",
       "  </tbody>\n",
       "</table>\n",
       "</div>"
      ],
      "text/plain": [
       "            asciiname  population Category\n",
       "204  Sainte-Catherine       16762    Rural\n",
       "210  Sainte-Catherine       16211    Rural"
      ]
     },
     "execution_count": 17,
     "metadata": {},
     "output_type": "execute_result"
    }
   ],
   "source": [
    "canadian_cities.loc[canadian_cities.duplicated(subset=['asciiname'],keep=False), :]\n",
    "\n",
    "#As you can see there are two entries of the same asciiname, drop first then merge"
   ]
  },
  {
   "cell_type": "code",
   "execution_count": 18,
   "metadata": {},
   "outputs": [
    {
     "data": {
      "text/plain": [
       "(1398659, 9)"
      ]
     },
     "execution_count": 18,
     "metadata": {},
     "output_type": "execute_result"
    }
   ],
   "source": [
    "canadian_cities.drop([210],inplace=True)\n",
    "df_work2 = pd.merge(df_work,canadian_cities, left_on ='SearchCity',right_on='asciiname',how='left')\n",
    "df_work2.shape"
   ]
  },
  {
   "cell_type": "code",
   "execution_count": 19,
   "metadata": {},
   "outputs": [
    {
     "data": {
      "text/plain": [
       "0.09202037680663368"
      ]
     },
     "execution_count": 19,
     "metadata": {},
     "output_type": "execute_result"
    }
   ],
   "source": [
    "df_work2[df_work2.Category.isnull()].Total_Searches.sum()/df_work2.Total_Searches.sum()\n",
    "# nearly 10% of total searches are dropped from Category"
   ]
  },
  {
   "cell_type": "code",
   "execution_count": 20,
   "metadata": {},
   "outputs": [
    {
     "data": {
      "text/plain": [
       "0.06201887774404007"
      ]
     },
     "execution_count": 20,
     "metadata": {},
     "output_type": "execute_result"
    }
   ],
   "source": [
    "df_work2[(df_work2.Category.isnull())&(df_work2.Province!='Others')].Total_Searches.sum()/df_work2.Total_Searches.sum()\n",
    "# nearly 6% of total searches from non-Other Provinces are dropped from Category"
   ]
  },
  {
   "cell_type": "code",
   "execution_count": 21,
   "metadata": {
    "scrolled": false
   },
   "outputs": [],
   "source": [
    "### pick cities with more than 20,000 searches\n",
    "list_prep = df_work2[(df_work2.Category.isnull())&(df_work2.Region.isin(canada))]\n",
    "list_prep = list_prep.iloc[: , [3,4,5,8]]\n",
    "list_prep = list_prep.groupby(['SearchCity','Province']).agg({\"Total_Searches\":'sum'}).sort_values(by=['Total_Searches'],ascending=False).reset_index()\n",
    "\n",
    "#with pd.option_context('display.max_rows', None, 'display.max_columns', None):\n",
    "#    print(list_prep)"
   ]
  },
  {
   "cell_type": "code",
   "execution_count": 22,
   "metadata": {},
   "outputs": [
    {
     "data": {
      "text/html": [
       "<div>\n",
       "<style scoped>\n",
       "    .dataframe tbody tr th:only-of-type {\n",
       "        vertical-align: middle;\n",
       "    }\n",
       "\n",
       "    .dataframe tbody tr th {\n",
       "        vertical-align: top;\n",
       "    }\n",
       "\n",
       "    .dataframe thead th {\n",
       "        text-align: right;\n",
       "    }\n",
       "</style>\n",
       "<table border=\"1\" class=\"dataframe\">\n",
       "  <thead>\n",
       "    <tr style=\"text-align: right;\">\n",
       "      <th></th>\n",
       "      <th>Total_Searches</th>\n",
       "    </tr>\n",
       "  </thead>\n",
       "  <tbody>\n",
       "    <tr>\n",
       "      <th>count</th>\n",
       "      <td>417.000000</td>\n",
       "    </tr>\n",
       "    <tr>\n",
       "      <th>mean</th>\n",
       "      <td>6959.258993</td>\n",
       "    </tr>\n",
       "    <tr>\n",
       "      <th>std</th>\n",
       "      <td>19389.546183</td>\n",
       "    </tr>\n",
       "    <tr>\n",
       "      <th>min</th>\n",
       "      <td>1.000000</td>\n",
       "    </tr>\n",
       "    <tr>\n",
       "      <th>25%</th>\n",
       "      <td>660.000000</td>\n",
       "    </tr>\n",
       "    <tr>\n",
       "      <th>50%</th>\n",
       "      <td>1757.000000</td>\n",
       "    </tr>\n",
       "    <tr>\n",
       "      <th>75%</th>\n",
       "      <td>4616.000000</td>\n",
       "    </tr>\n",
       "    <tr>\n",
       "      <th>max</th>\n",
       "      <td>177576.000000</td>\n",
       "    </tr>\n",
       "  </tbody>\n",
       "</table>\n",
       "</div>"
      ],
      "text/plain": [
       "       Total_Searches\n",
       "count      417.000000\n",
       "mean      6959.258993\n",
       "std      19389.546183\n",
       "min          1.000000\n",
       "25%        660.000000\n",
       "50%       1757.000000\n",
       "75%       4616.000000\n",
       "max     177576.000000"
      ]
     },
     "execution_count": 22,
     "metadata": {},
     "output_type": "execute_result"
    }
   ],
   "source": [
    "list_prep.describe()"
   ]
  },
  {
   "cell_type": "code",
   "execution_count": 23,
   "metadata": {},
   "outputs": [
    {
     "data": {
      "text/plain": [
       "(1398659, 9)"
      ]
     },
     "execution_count": 23,
     "metadata": {},
     "output_type": "execute_result"
    }
   ],
   "source": [
    "list_prep = list_prep[list_prep['Total_Searches']>18000].reset_index() \n",
    "# make sure reset_index or groupby columns (Province, SearchCity) won't appear!!\n",
    "list_prep = list_prep['SearchCity'].tolist()\n",
    "\n",
    "#list_of_additional_cities\n",
    "#for col in list_of_additional_cities.columns: \n",
    "#    print(col) \n",
    "\n",
    "df_work2.loc[df_work2['SearchCity'].isin(list_prep),'Category'] = 'Mid'\n",
    "df_work2['Category'].fillna('Rural', inplace=True)\n",
    "\n",
    "df_work2.shape"
   ]
  },
  {
   "cell_type": "code",
   "execution_count": 24,
   "metadata": {},
   "outputs": [
    {
     "data": {
      "text/plain": [
       "(0, 9)"
      ]
     },
     "execution_count": 24,
     "metadata": {},
     "output_type": "execute_result"
    }
   ],
   "source": [
    "#check to see any error values\n",
    "df_work2[df_work2.Category.isnull()].shape"
   ]
  },
  {
   "cell_type": "code",
   "execution_count": 25,
   "metadata": {
    "scrolled": true
   },
   "outputs": [
    {
     "data": {
      "text/plain": [
       "(368069, 5)"
      ]
     },
     "execution_count": 25,
     "metadata": {},
     "output_type": "execute_result"
    }
   ],
   "source": [
    "df_final = df_work2.drop(['Region','SearchCity','asciiname','population'], axis=1)\n",
    "#df_final.to_csv('result.csv')\n",
    "df_final = df_final.groupby(['Province','Category','SearchMake','SearchModel']).agg({\"Total_Searches\":'sum'}).sort_values(by=['Total_Searches'],ascending=False).reset_index()\n",
    "df_final.shape"
   ]
  },
  {
   "cell_type": "code",
   "execution_count": 26,
   "metadata": {},
   "outputs": [],
   "source": [
    "df_final.to_csv('result.csv',index=False)"
   ]
  },
  {
   "cell_type": "code",
   "execution_count": 27,
   "metadata": {},
   "outputs": [],
   "source": [
    "frames = {i:dat for i, dat in df_final.groupby(['Province','Category'])}"
   ]
  },
  {
   "cell_type": "code",
   "execution_count": 28,
   "metadata": {},
   "outputs": [
    {
     "data": {
      "text/html": [
       "<div>\n",
       "<style scoped>\n",
       "    .dataframe tbody tr th:only-of-type {\n",
       "        vertical-align: middle;\n",
       "    }\n",
       "\n",
       "    .dataframe tbody tr th {\n",
       "        vertical-align: top;\n",
       "    }\n",
       "\n",
       "    .dataframe thead th {\n",
       "        text-align: right;\n",
       "    }\n",
       "</style>\n",
       "<table border=\"1\" class=\"dataframe\">\n",
       "  <thead>\n",
       "    <tr style=\"text-align: right;\">\n",
       "      <th></th>\n",
       "      <th>Province</th>\n",
       "      <th>Category</th>\n",
       "      <th>SearchMake</th>\n",
       "      <th>SearchModel</th>\n",
       "      <th>Total_Searches</th>\n",
       "    </tr>\n",
       "  </thead>\n",
       "  <tbody>\n",
       "    <tr>\n",
       "      <th>0</th>\n",
       "      <td>Ontario</td>\n",
       "      <td>Metro</td>\n",
       "      <td>bmw</td>\n",
       "      <td>3 series</td>\n",
       "      <td>342425</td>\n",
       "    </tr>\n",
       "    <tr>\n",
       "      <th>1</th>\n",
       "      <td>Ontario</td>\n",
       "      <td>Metro</td>\n",
       "      <td>ford</td>\n",
       "      <td>mustang</td>\n",
       "      <td>304794</td>\n",
       "    </tr>\n",
       "    <tr>\n",
       "      <th>2</th>\n",
       "      <td>Ontario</td>\n",
       "      <td>Metro</td>\n",
       "      <td>honda</td>\n",
       "      <td>civic</td>\n",
       "      <td>301238</td>\n",
       "    </tr>\n",
       "    <tr>\n",
       "      <th>3</th>\n",
       "      <td>Ontario</td>\n",
       "      <td>Metro</td>\n",
       "      <td>mercedes-benz</td>\n",
       "      <td>c-class</td>\n",
       "      <td>268657</td>\n",
       "    </tr>\n",
       "    <tr>\n",
       "      <th>4</th>\n",
       "      <td>Ontario</td>\n",
       "      <td>Metro</td>\n",
       "      <td>bmw</td>\n",
       "      <td>m</td>\n",
       "      <td>233715</td>\n",
       "    </tr>\n",
       "  </tbody>\n",
       "</table>\n",
       "</div>"
      ],
      "text/plain": [
       "  Province Category     SearchMake SearchModel  Total_Searches\n",
       "0  Ontario    Metro            bmw    3 series          342425\n",
       "1  Ontario    Metro           ford     mustang          304794\n",
       "2  Ontario    Metro          honda       civic          301238\n",
       "3  Ontario    Metro  mercedes-benz     c-class          268657\n",
       "4  Ontario    Metro            bmw           m          233715"
      ]
     },
     "execution_count": 28,
     "metadata": {},
     "output_type": "execute_result"
    }
   ],
   "source": [
    "frames['Ontario','Metro'].head(5)"
   ]
  },
  {
   "cell_type": "code",
   "execution_count": 29,
   "metadata": {},
   "outputs": [
    {
     "name": "stderr",
     "output_type": "stream",
     "text": [
      "C:\\Users\\skato\\AppData\\Local\\Continuum\\anaconda3\\lib\\site-packages\\ipykernel_launcher.py:4: FutureWarning: The signature of `Series.to_csv` was aligned to that of `DataFrame.to_csv`, and argument 'header' will change its default value from False to True: please pass an explicit value to suppress this warning.\n",
      "  after removing the cwd from sys.path.\n"
     ]
    }
   ],
   "source": [
    "df_dir = df_work2.drop(['SearchMake','SearchModel','Region','Total_Searches','population'], axis=1).drop_duplicates()\n",
    "#df_dir.drop_duplicates()\n",
    "df_dir_list = df_dir.SearchCity[(df_dir.Category !='Rural')&(df_dir.Province=='Ontario')].reset_index(drop=True)\n",
    "df_dir_list.to_csv('result.csv',index=False)"
   ]
  },
  {
   "cell_type": "code",
   "execution_count": 30,
   "metadata": {},
   "outputs": [],
   "source": [
    "#import csv\n",
    "\n",
    "#frames = {i:dat for i, dat in df_final.groupby('Province')}\n",
    "\n",
    "# with open('dict.csv', 'w') as csv_file:\n",
    "#     writer = csv.writer(csv_file)\n",
    "#     for key, value in frames.items():\n",
    "#        writer.writerow([key, value])\n"
   ]
  },
  {
   "cell_type": "code",
   "execution_count": 31,
   "metadata": {},
   "outputs": [],
   "source": [
    "# len(list_of_province)"
   ]
  },
  {
   "cell_type": "markdown",
   "metadata": {},
   "source": [
    "#### SQL Lesson - always check there is no duplicate entry in joining tables!<br>\n",
    "When I left joined df_work and canadian_cities (reference file) using df_work as the base table, row number increased from <br>\n",
    "<br>\n",
    "row # for df_work = 1,878,733 <br>\n",
    "row # for canadian_cities = 400 <br>\n",
    "<br>\n",
    "Theoretically, row# for df_work2 should be same as df_work (because left joint), but df_work2 = 1,880,685<br>\n",
    "1952 more rows in df_work2 than df_work!!!<br>\n",
    "<br>\n",
    "Two approaches were taken<br>\n",
    "1. Check # of rows where [SearchCity] = isnull & [asciiname] = notnull - 67 rows <br>\n",
    "df_work2[(df_work2['SearchCity'].isnull())&(df_work2['asciiname'].isnull())].shape<br><br>\n",
    "2. Check for duplicates from reference table - 1 duplicate found on canadian_cities <br>\n",
    "canadian_cities.loc[canadian_cities.duplicated(subset=['asciiname'],keep=False), :] <br>\n",
    "<br>As you can tell from below, population number is different! manually delete one of the two!\n",
    "<br><br>\n",
    "The duplicated entry from canadian_cities created 1952 duplicated entries on df_work2 once joined<br>\n",
    "df_work2.loc[df_work2.SearchCity =='Sainte-Catherine'].drop_duplicates(keep=False)"
   ]
  }
 ],
 "metadata": {
  "kernelspec": {
   "display_name": "Python 3",
   "language": "python",
   "name": "python3"
  },
  "language_info": {
   "codemirror_mode": {
    "name": "ipython",
    "version": 3
   },
   "file_extension": ".py",
   "mimetype": "text/x-python",
   "name": "python",
   "nbconvert_exporter": "python",
   "pygments_lexer": "ipython3",
   "version": "3.7.3"
  }
 },
 "nbformat": 4,
 "nbformat_minor": 2
}
